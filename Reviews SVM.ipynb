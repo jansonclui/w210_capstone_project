{
 "cells": [
  {
   "cell_type": "code",
   "execution_count": 1,
   "metadata": {
    "collapsed": true
   },
   "outputs": [],
   "source": [
    "import os, sys, re, json, time, unittest\n",
    "import itertools, collections\n",
    "import re\n",
    "import operator\n",
    "from sklearn import datasets, linear_model\n",
    "import numpy as np\n",
    "from scipy import stats\n",
    "import matplotlib.pyplot as plt\n",
    "from sklearn.feature_extraction.text import CountVectorizer, TfidfVectorizer\n",
    "from sklearn.linear_model import LogisticRegression\n",
    "from sklearn.metrics import accuracy_score"
   ]
  },
  {
   "cell_type": "code",
   "execution_count": 2,
   "metadata": {
    "collapsed": true
   },
   "outputs": [],
   "source": [
    "import nltk\n",
    "#read in data to clean and separate into training and test set\n",
    "from nltk.corpus import stopwords\n",
    "\n",
    "stop_words = set(stopwords.words(\"english\"))\n",
    "\n",
    "\n",
    "good = []\n",
    "bad = []\n",
    "score = []\n",
    "tags = []\n",
    "lines = []\n",
    "\n",
    "#1 is good\n",
    "#0 is not\n",
    "\n",
    "#based on the distribution of scores, I rounded up the mean to 95 and used that to determine good and bad\n",
    "#turns out the distribution between good and bad is pretty even.\n",
    "for line in open('naomit_review_scores_final').readlines():\n",
    "    data = line.split('\\t')\n",
    "    clean_score = re.sub(\"[^0-9]\", \"\", data[1])\n",
    "    desc = data[0]\n",
    "    if clean_score != '' and int(clean_score) <= 100 and int(clean_score) > 0:\n",
    "        if int(clean_score) >= 95:\n",
    "            for each in desc.lower().split('.'):\n",
    "                if each != ' ' and each != '':\n",
    "                    good.append(re.sub('[^A-Za-z]', ' ', each))\n",
    "                    #pre_lines.append((re.sub('[^A-Za-z]', ' ', each), 'good'))\n",
    "                    lines.append(re.sub('[^A-Za-z]', ' ', each),)\n",
    "                    score.append(int(clean_score))\n",
    "                    tags.append(int(1))\n",
    "           \n",
    "        elif int(clean_score) < 95:\n",
    "            for each in desc.lower().split('.'):\n",
    "                if each != ' ' and each != '':\n",
    "                    #pre_lines.append((re.sub('[^A-Za-z]', ' ', each), 'bad'))\n",
    "                    lines.append(re.sub('[^A-Za-z]', ' ', each))\n",
    "                    bad.append(re.sub('[^A-Za-z]', ' ', each))\n",
    "                    score.append(int(clean_score))\n",
    "                    tags.append(int(0))"
   ]
  },
  {
   "cell_type": "code",
   "execution_count": 3,
   "metadata": {
    "collapsed": true
   },
   "outputs": [],
   "source": [
    "feature_extraction = TfidfVectorizer()\n",
    "X = feature_extraction.fit_transform(lines)"
   ]
  },
  {
   "cell_type": "code",
   "execution_count": 4,
   "metadata": {},
   "outputs": [
    {
     "name": "stdout",
     "output_type": "stream",
     "text": [
      "44\n",
      "2180073\n",
      "2180073\n",
      "great location\n",
      "1\n",
      "  (0, 38189)\t0.634260104506\n",
      "  (0, 51677)\t0.773119731886\n"
     ]
    }
   ],
   "source": [
    "print len(lines[0])\n",
    "print len(lines)\n",
    "print len(tags)\n",
    "print lines[50]\n",
    "print tags[50]\n",
    "print X[50]"
   ]
  },
  {
   "cell_type": "code",
   "execution_count": 5,
   "metadata": {},
   "outputs": [],
   "source": [
    "X_train = X[:len(lines)/2]\n",
    "X_test = X[len(lines)/2:]\n",
    "Y_train = tags[:len(tags)/2]\n",
    "Y_test = tags[len(tags)/2:]"
   ]
  },
  {
   "cell_type": "code",
   "execution_count": null,
   "metadata": {
    "collapsed": true
   },
   "outputs": [],
   "source": [
    "from sklearn.svm import SVC\n",
    "feature_extraction = TfidfVectorizer()\n",
    "\n",
    "\n",
    "# Train model\n",
    "clf = SVC(probability=True, kernel='rbf')\n",
    "#clf.fit(X_train, Y_train)\n",
    "#clf = SVC(kernel='linear', \n",
    "#            class_weight='balanced', # penalize\n",
    "#            probability=True)\n",
    " \n",
    "clf.fit(X_train, Y_train)\n",
    " \n",
    "# Predict on training set\n",
    "pred_y = clf.predict(X_test)\n",
    " \n",
    "# number of classes\n",
    "print( np.unique( pred_y ) )\n",
    "# [0 1]\n",
    " \n",
    "# accuracy\n",
    "print( accuracy_score(pred_y, Y_test) )\n",
    "# 0.688"
   ]
  },
  {
   "cell_type": "code",
   "execution_count": null,
   "metadata": {},
   "outputs": [],
   "source": [
    "predictions = clf.predict_proba(X_test)\n",
    "\n",
    "print('ROC-AUC yields ' + str(roc_auc_score(Y_test, predictions[:,1])))"
   ]
  }
 ],
 "metadata": {
  "kernelspec": {
   "display_name": "Python 2",
   "language": "python",
   "name": "python2"
  },
  "language_info": {
   "codemirror_mode": {
    "name": "ipython",
    "version": 2
   },
   "file_extension": ".py",
   "mimetype": "text/x-python",
   "name": "python",
   "nbconvert_exporter": "python",
   "pygments_lexer": "ipython2",
   "version": "2.7.14"
  }
 },
 "nbformat": 4,
 "nbformat_minor": 2
}
