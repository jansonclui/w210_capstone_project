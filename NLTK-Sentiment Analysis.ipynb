{
 "cells": [
  {
   "cell_type": "code",
   "execution_count": 27,
   "metadata": {},
   "outputs": [],
   "source": [
    "import os, sys, re, json, time, unittest\n",
    "import itertools, collections\n",
    "import re\n",
    "import operator\n",
    "import numpy as np\n",
    "import nltk\n",
    "from nltk.corpus import stopwords\n",
    "stop_words = set(stopwords.words(\"english\"))\n",
    "#nltk.download('maxent_ne_chunker')\n",
    "#nltk.download('words')\n",
    "#nltk.download('vader_lexicon')"
   ]
  },
  {
   "cell_type": "code",
   "execution_count": null,
   "metadata": {
    "collapsed": true
   },
   "outputs": [],
   "source": [
    "###############Method 1##################\n",
    "#this is just a quick and dirty method\n",
    "#Method 2 might be more useful\n",
    "#positive and negative list came from a public source\n",
    "#"
   ]
  },
  {
   "cell_type": "code",
   "execution_count": 2,
   "metadata": {
    "scrolled": false
   },
   "outputs": [
    {
     "name": "stdout",
     "output_type": "stream",
     "text": [
      "['a+', 'abound', 'abounds', 'abundance', 'abundant', 'accessable', 'accessible', 'acclaim']\n"
     ]
    }
   ],
   "source": [
    "#loading positive word list\n",
    "pos_words = []\n",
    "startbool = False\n",
    "for line in open('positive-words.txt').readlines():\n",
    "    if not line.startswith(\";\"):\n",
    "        pos_words.append(line.strip('\\r\\n'))\n",
    "pos_words = pos_words[1:]\n",
    "print pos_words[:8]"
   ]
  },
  {
   "cell_type": "code",
   "execution_count": 3,
   "metadata": {},
   "outputs": [
    {
     "name": "stdout",
     "output_type": "stream",
     "text": [
      "['2-faced', '2-faces', 'abnormal', 'abolish', 'abominable', 'abominably', 'abominate', 'abomination']\n"
     ]
    }
   ],
   "source": [
    "#loading negative word list\n",
    "neg_words = []\n",
    "startbool = False\n",
    "for line in open('negative-words.txt').readlines():\n",
    "    if not line.startswith(\";\"):\n",
    "        neg_words.append(line.strip('\\r\\n'))\n",
    "neg_words = neg_words[1:]\n",
    "print neg_words[:8]"
   ]
  },
  {
   "cell_type": "code",
   "execution_count": 9,
   "metadata": {},
   "outputs": [
    {
     "name": "stdout",
     "output_type": "stream",
     "text": [
      "1432787\n"
     ]
    }
   ],
   "source": [
    "lines = []\n",
    "count = 0\n",
    "for line in open('text_test_deps.csv').readlines():\n",
    "    temp_str = line.strip('\\r\\n')\n",
    "    if temp_str != \"\":\n",
    "        sentences = nltk.sent_tokenize(temp_str.decode('ascii', 'ignore'))\n",
    "        tokenized_sentences = [nltk.word_tokenize(sentence) for sentence in sentences]\n",
    "        tagged_sentences = [nltk.pos_tag(sentence) for sentence in tokenized_sentences]\n",
    "        lines.append(tagged_sentences)\n",
    "#print len(lines)"
   ]
  },
  {
   "cell_type": "code",
   "execution_count": null,
   "metadata": {
    "collapsed": true
   },
   "outputs": [],
   "source": [
    "import csv\n",
    "\n",
    "with open('lines_text_test_deps.csv', 'wb') as myfile:\n",
    "    wr = csv.writer(myfile, quoting=csv.QUOTE_ALL)\n",
    "    wr.writerow(lines)"
   ]
  },
  {
   "cell_type": "code",
   "execution_count": 116,
   "metadata": {},
   "outputs": [
    {
     "name": "stdout",
     "output_type": "stream",
     "text": [
      "[[(u'0', 'CD'), (u',', ','), (u\"''\", \"''\"), (u'Need', 'VBP'), (u'a', 'DT'), (u'place', 'NN'), (u'to', 'TO'), (u'sleep', 'VB'), (u'that', 'DT'), (u'has', 'VBZ'), (u'easy', 'JJ'), (u'access', 'NN'), (u'to', 'TO'), (u'all', 'DT'), (u'of', 'IN'), (u'San', 'NNP'), (u'Francisco', 'NNP'), (u'?', '.')], [(u'Our', 'PRP$'), (u'living', 'NN'), (u'room', 'NN'), (u'sofabed', 'VBD'), (u'on', 'IN'), (u'the', 'DT'), (u'corner', 'NN'), (u'of', 'IN'), (u'Golden', 'NNP'), (u'Gate', 'NNP'), (u'Park', 'NNP'), (u'is', 'VBZ'), (u'in', 'IN'), (u'the', 'DT'), (u'center', 'NN'), (u'of', 'IN'), (u'the', 'DT'), (u'city', 'NN'), (u'!', '.')], [(u'As', 'IN'), (u'an', 'DT'), (u'added', 'JJ'), (u'bonus', 'NN'), (u',', ','), (u'access', 'NN'), (u'to', 'TO'), (u'public', 'JJ'), (u'transportation', 'NN'), (u'(', '('), (u'MUNI', 'NNP'), (u')', ')'), (u'is', 'VBZ'), (u'less', 'JJR'), (u'than', 'IN'), (u'a', 'DT'), (u'5', 'CD'), (u'minute', 'NN'), (u'walk', 'NN'), (u'away', 'RB'), (u'.', '.')], [(u'We', 'PRP'), (u\"'ve\", 'VBP'), (u'converted', 'VBN'), (u'our', 'PRP$'), (u'living', 'NN'), (u'room', 'NN'), (u'sofa', 'NN'), (u'into', 'IN'), (u'a', 'DT'), (u'full-sized', 'JJ'), (u'bed', 'NN'), (u'by', 'IN'), (u'outfitting', 'VBG'), (u'our', 'PRP$'), (u'modular', 'JJ'), (u'sofa', 'NN'), (u'with', 'IN'), (u'a', 'DT'), (u'traditional', 'JJ'), (u'Japanese', 'JJ'), (u'organic', 'JJ'), (u'futon', 'NN'), (u'mattress', 'NN'), (u'.', '.')], [(u'The', 'DT'), (u'bedrooms', 'NNS'), (u'will', 'MD'), (u'be', 'VB'), (u'occupied', 'VBN'), (u'by', 'IN'), (u'my', 'PRP$'), (u'roommate', 'NN'), (u'and', 'CC'), (u'myself', 'PRP'), (u'.', '.')], [(u'We', 'PRP'), (u'are', 'VBP'), (u'two', 'CD'), (u'young', 'JJ'), (u'professional', 'JJ'), (u'males', 'NNS'), (u'in', 'IN'), (u'our', 'PRP$'), (u'mid-20s', 'NN'), (u'in', 'IN'), (u'the', 'DT'), (u'tech', 'NN'), (u'industry', 'NN'), (u'.', '.')], [(u'Whether', 'IN'), (u'you', 'PRP'), (u\"'re\", 'VBP'), (u'looking', 'VBG'), (u'to', 'TO'), (u'see', 'VB'), (u'San', 'NNP'), (u'Francisco', 'NNP'), (u'highlights', 'NNS'), (u'like', 'IN'), (u'the', 'DT'), (u'Golden', 'NNP'), (u'Gate', 'NNP'), (u'Bridge', 'NNP'), (u',', ','), (u'Golden', 'NNP'), (u'Gate', 'NNP'), (u'Park', 'NNP'), (u',', ','), (u'Mission', 'NNP'), (u'Dolores', 'NNP'), (u'Park', 'NNP'), (u',', ','), (u'or', 'CC'), (u'Fisherman', 'NNP'), (u\"'s\", 'POS'), (u'Wharf', 'NNP'), (u',', ','), (u'with', 'IN'), (u'this', 'DT'), (u'central', 'JJ'), (u'location', 'NN'), (u',', ','), (u'you', 'PRP'), (u\"'ll\", 'MD'), (u'have', 'VB'), (u'easy', 'JJ'), (u'access', 'NN'), (u'!', '.')], [(u'There', 'EX'), (u'will', 'MD'), (u'be', 'VB'), (u'a', 'DT'), (u'lockbox', 'NN'), (u'located', 'VBN'), (u'outside', 'IN'), (u'of', 'IN'), (u'the', 'DT'), (u'apartment', 'NN'), (u'building', 'NN'), (u'which', 'WDT'), (u'means', 'VBZ'), (u'you', 'PRP'), (u'will', 'MD'), (u'have', 'VB'), (u'your', 'PRP$'), (u'own', 'JJ'), (u'set', 'NN'), (u'of', 'IN'), (u'keys', 'NNS'), (u'so', 'IN'), (u'that', 'IN'), (u'you', 'PRP'), (u'can', 'MD'), (u'conveniently', 'RB'), (u'go', 'VB'), (u'in', 'IN'), (u'and', 'CC'), (u'out', 'IN'), (u'of', 'IN'), (u'the', 'DT'), (u'unit', 'NN'), (u'at', 'IN'), (u'your', 'PRP$'), (u'discretion', 'NN'), (u'.', '.')], [(u'You', 'PRP'), (u\"'ll\", 'MD'), (u'have', 'VB'), (u'full', 'JJ'), (u'private', 'JJ'), (u'access', 'NN'), (u'to', 'TO'), (u'the', 'DT'), (u'master', 'NN'), (u'bedroom', 'NN'), (u'.', '.')], [(u'While', 'IN'), (u'the', 'DT'), (u'closet', 'NN'), (u'is', 'VBZ'), (u'in', 'IN'), (u'use', 'NN'), (u',', ','), (u'it', 'PRP'), (u\"'s\", 'VBZ'), (u'quit', 'NN'), (u\"''\", \"''\"), (u',', ','), (u\"''\", \"''\"), (u'Hi', 'NNP'), (u'!', '.')], [(u'I', 'PRP'), (u\"'m\", 'VBP'), (u'Charles', 'NNP'), (u'.', '.')], [(u'I', 'PRP'), (u\"'m\", 'VBP'), (u'originally', 'RB'), (u'from', 'IN'), (u'Dallas', 'NNP'), (u',', ','), (u'Texas', 'NNP'), (u',', ','), (u'where', 'WRB'), (u'I', 'PRP'), (u'taught', 'VBD'), (u'middle', 'JJ'), (u'school', 'NN'), (u'math', 'NN'), (u'as', 'IN'), (u'part', 'NN'), (u'of', 'IN'), (u'Teach', 'NNP'), (u'For', 'IN'), (u'America', 'NNP'), (u',', ','), (u'but', 'CC'), (u'now', 'RB'), (u'reside', 'VBP'), (u'in', 'IN'), (u'San', 'NNP'), (u'Francisco', 'NNP'), (u',', ','), (u'California', 'NNP'), (u',', ','), (u'where', 'WRB'), (u'I', 'PRP'), (u'shuttle', 'VBP'), (u'to', 'TO'), (u'and', 'CC'), (u'from', 'IN'), (u'my', 'PRP$'), (u'workplace', 'NN'), (u'at', 'IN'), (u'(', '('), (u'SENSITIVE', 'JJ'), (u'CONTENTS', 'NNP'), (u'HIDDEN', 'NNP'), (u')', ')'), (u'down', 'RP'), (u'in', 'IN'), (u'Mountain', 'NNP'), (u'View', 'NNP'), (u'.', '.')]]\n"
     ]
    }
   ],
   "source": [
    "print lines[1]"
   ]
  },
  {
   "cell_type": "code",
   "execution_count": 136,
   "metadata": {},
   "outputs": [
    {
     "name": "stdout",
     "output_type": "stream",
     "text": [
      "[(u'Need', 'VBP'), (u'a', 'DT'), (u'place', 'NN'), (u'to', 'TO'), (u'sleep', 'VB'), (u'that', 'DT'), (u'has', 'VBZ'), (u'easy', 'JJ'), (u'access', 'NN'), (u'to', 'TO'), (u'all', 'DT'), (u'of', 'IN'), (u'San', 'NNP'), (u'Francisco', 'NNP'), (u'Our', 'PRP$'), (u'living', 'NN'), (u'room', 'NN'), (u'sofabed', 'VBD'), (u'on', 'IN'), (u'the', 'DT'), (u'corner', 'NN'), (u'of', 'IN'), (u'Golden', 'NNP'), (u'Gate', 'NNP'), (u'Park', 'NNP'), (u'is', 'VBZ'), (u'in', 'IN'), (u'the', 'DT'), (u'center', 'NN'), (u'of', 'IN'), (u'the', 'DT'), (u'city', 'NN'), (u'As', 'IN'), (u'an', 'DT'), (u'added', 'JJ'), (u'bonus', 'NN'), (u'access', 'NN'), (u'to', 'TO'), (u'public', 'JJ'), (u'transportation', 'NN'), (u'MUNI', 'NNP'), (u'is', 'VBZ'), (u'less', 'JJR'), (u'than', 'IN'), (u'a', 'DT'), (u'minute', 'NN'), (u'walk', 'NN'), (u'away', 'RB'), (u'We', 'PRP'), (u'converted', 'VBN'), (u'our', 'PRP$'), (u'living', 'NN'), (u'room', 'NN'), (u'sofa', 'NN'), (u'into', 'IN'), (u'a', 'DT'), (u'bed', 'NN'), (u'by', 'IN'), (u'outfitting', 'VBG'), (u'our', 'PRP$'), (u'modular', 'JJ'), (u'sofa', 'NN'), (u'with', 'IN'), (u'a', 'DT'), (u'traditional', 'JJ'), (u'Japanese', 'JJ'), (u'organic', 'JJ'), (u'futon', 'NN'), (u'mattress', 'NN'), (u'The', 'DT'), (u'bedrooms', 'NNS'), (u'will', 'MD'), (u'be', 'VB'), (u'occupied', 'VBN'), (u'by', 'IN'), (u'my', 'PRP$'), (u'roommate', 'NN'), (u'and', 'CC'), (u'myself', 'PRP'), (u'We', 'PRP'), (u'are', 'VBP'), (u'two', 'CD'), (u'young', 'JJ'), (u'professional', 'JJ'), (u'males', 'NNS'), (u'in', 'IN'), (u'our', 'PRP$'), (u'in', 'IN'), (u'the', 'DT'), (u'tech', 'NN'), (u'industry', 'NN'), (u'Whether', 'IN'), (u'you', 'PRP'), (u'looking', 'VBG'), (u'to', 'TO'), (u'see', 'VB'), (u'San', 'NNP'), (u'Francisco', 'NNP'), (u'highlights', 'NNS'), (u'like', 'IN'), (u'the', 'DT'), (u'Golden', 'NNP'), (u'Gate', 'NNP'), (u'Bridge', 'NNP'), (u'Golden', 'NNP'), (u'Gate', 'NNP'), (u'Park', 'NNP'), (u'Mission', 'NNP'), (u'Dolores', 'NNP'), (u'Park', 'NNP'), (u'or', 'CC'), (u'Fisherman', 'NNP'), (u'Wharf', 'NNP'), (u'with', 'IN'), (u'this', 'DT'), (u'central', 'JJ'), (u'location', 'NN'), (u'you', 'PRP'), (u'have', 'VB'), (u'easy', 'JJ'), (u'access', 'NN'), (u'There', 'EX'), (u'will', 'MD'), (u'be', 'VB'), (u'a', 'DT'), (u'lockbox', 'NN'), (u'located', 'VBN'), (u'outside', 'IN'), (u'of', 'IN'), (u'the', 'DT'), (u'apartment', 'NN'), (u'building', 'NN'), (u'which', 'WDT'), (u'means', 'VBZ'), (u'you', 'PRP'), (u'will', 'MD'), (u'have', 'VB'), (u'your', 'PRP$'), (u'own', 'JJ'), (u'set', 'NN'), (u'of', 'IN'), (u'keys', 'NNS'), (u'so', 'IN'), (u'that', 'IN'), (u'you', 'PRP'), (u'can', 'MD'), (u'conveniently', 'RB'), (u'go', 'VB'), (u'in', 'IN'), (u'and', 'CC'), (u'out', 'IN'), (u'of', 'IN'), (u'the', 'DT'), (u'unit', 'NN'), (u'at', 'IN'), (u'your', 'PRP$'), (u'discretion', 'NN'), (u'You', 'PRP'), (u'have', 'VB'), (u'full', 'JJ'), (u'private', 'JJ'), (u'access', 'NN'), (u'to', 'TO'), (u'the', 'DT'), (u'master', 'NN'), (u'bedroom', 'NN'), (u'While', 'IN'), (u'the', 'DT'), (u'closet', 'NN'), (u'is', 'VBZ'), (u'in', 'IN'), (u'use', 'NN'), (u'it', 'PRP'), (u'quit', 'NN'), (u'Hi', 'NNP'), (u'I', 'PRP'), (u'Charles', 'NNP'), (u'I', 'PRP'), (u'originally', 'RB'), (u'from', 'IN'), (u'Dallas', 'NNP'), (u'Texas', 'NNP'), (u'where', 'WRB'), (u'I', 'PRP'), (u'taught', 'VBD'), (u'middle', 'JJ'), (u'school', 'NN'), (u'math', 'NN'), (u'as', 'IN'), (u'part', 'NN'), (u'of', 'IN'), (u'Teach', 'NNP'), (u'For', 'IN'), (u'America', 'NNP'), (u'but', 'CC'), (u'now', 'RB'), (u'reside', 'VBP'), (u'in', 'IN'), (u'San', 'NNP'), (u'Francisco', 'NNP'), (u'California', 'NNP'), (u'where', 'WRB'), (u'I', 'PRP'), (u'shuttle', 'VBP'), (u'to', 'TO'), (u'and', 'CC'), (u'from', 'IN'), (u'my', 'PRP$'), (u'workplace', 'NN'), (u'at', 'IN'), (u'SENSITIVE', 'JJ'), (u'CONTENTS', 'NNP'), (u'HIDDEN', 'NNP'), (u'down', 'RP'), (u'in', 'IN'), (u'Mountain', 'NNP'), (u'View', 'NNP')]\n",
      "6\n",
      "[(u'What', 'WP'), (u'are', 'VBP'), (u'things', 'NNS'), (u'I', 'PRP'), (u'love', 'VBP')]\n",
      "1\n",
      "[(u'Pugs', 'NN')]\n",
      "0\n",
      "[(u'Taylor', 'NN'), (u'Swift', 'NN')]\n",
      "0\n",
      "[(u'Pop', 'NN'), (u'culture', 'NN')]\n",
      "0\n",
      "[(u'International', 'NNP'), (u'travel', 'NN')]\n",
      "0\n",
      "[(u'Photography', 'NN')]\n",
      "0\n",
      "[(u'What', 'WP'), (u'my', 'PRP$'), (u'style', 'NN'), (u'of', 'IN'), (u'hosting', 'VBG')]\n",
      "0\n",
      "[(u'Feel', 'NNP'), (u'free', 'JJ'), (u'to', 'TO'), (u'come', 'VB'), (u'and', 'CC'), (u'go', 'VB'), (u'but', 'CC'), (u'if', 'IN'), (u'you', 'PRP'), (u'need', 'VBP'), (u'any', 'DT'), (u'recommendations', 'NNS'), (u'I', 'PRP'), (u'happy', 'JJ'), (u'to', 'TO'), (u'share', 'NN'), (u'with', 'IN'), (u'you', 'PRP'), (u'the', 'DT'), (u'reasons', 'NNS'), (u'I', 'PRP'), (u'love', 'VBP'), (u'living', 'VBG'), (u'in', 'IN'), (u'San', 'NNP'), (u'Francisco', 'NNP'), (u'Families', 'NNP'), (u'live', 'VBP'), (u'in', 'IN'), (u'the', 'DT'), (u'building', 'NN'), (u'so', 'IN'), (u'the', 'DT'), (u'noise', 'NN'), (u'level', 'NN'), (u'will', 'MD'), (u'need', 'VB'), (u'to', 'TO'), (u'be', 'VB'), (u'kept', 'VBN'), (u'at', 'IN'), (u'a', 'DT'), (u'minimum', 'JJ'), (u'especially', 'RB'), (u'late', 'RB'), (u'at', 'IN'), (u'night', 'NN'), (u'This', 'DT'), (u'listing', 'NN'), (u'is', 'VBZ'), (u'also', 'RB'), (u'only', 'RB'), (u'intended', 'VBD'), (u'for', 'IN'), (u'one', 'CD'), (u'guest', 'NN'), (u'Thank', 'NNP'), (u'you', 'PRP'), (u'Cole', 'NNP'), (u'Valley', 'NNP'), (u'is', 'VBZ'), (u'quite', 'RB'), (u'frankly', 'RB'), (u'the', 'DT'), (u'center', 'NN'), (u'of', 'IN'), (u'San', 'NNP'), (u'Francisco', 'NNP'), (u'In', 'IN'), (u'less', 'JJR'), (u'than', 'IN'), (u'a', 'DT'), (u'radius', 'NN'), (u'you', 'PRP'), (u'got', 'VBN'), (u'the', 'DT'), (u'Golden', 'NNP'), (u'Gate', 'NNP'), (u'Bridge', 'NNP'), (u'Fisherman', 'NNP'), (u'Wharf', 'NNP'), (u'Chinatown', 'NNP'), (u'Painted', 'NNP'), (u'Ladies', 'NNP'), (u'Ghiradelli', 'NNP'), (u'Square', 'NNP'), (u'etc', 'NN'), (u'Golden', 'NNP'), (u'Gate', 'NNP'), (u'Park', 'NNP'), (u'is', 'VBZ'), (u'right', 'JJ'), (u'across', 'IN'), (u'the', 'DT'), (u'street', 'NN'), (u'One', 'CD'), (u'of', 'IN'), (u'my', 'PRP$'), (u'favorite', 'JJ'), (u'parts', 'NNS'), (u'of', 'IN'), (u'our', 'PRP$'), (u'neighborhood', 'NN'), (u'is', 'VBZ'), (u'that', 'IN'), (u'we', 'PRP'), (u'got', 'VBN'), (u'a', 'DT'), (u'Whole', 'NNP'), (u'Foods', 'NNP'), (u'supermarket', 'NN'), (u'just', 'RB'), (u'a', 'DT'), (u'minute', 'NN'), (u'walk', 'VBP'), (u'away', 'RB'), (u'Cole', 'NNP'), (u'Street', 'NNP'), (u'which', 'WDT'), (u'features', 'VBZ'), (u'a', 'DT'), (u'row', 'NN'), (u'of', 'IN'), (u'shops', 'NNS'), (u'and', 'CC'), (u'restaurants', 'NNS'), (u'including', 'VBG'), (u'brunch', 'NN'), (u'hotspot', 'NN'), (u'Zazie', 'NNP'), (u'is', 'VBZ'), (u'only', 'RB'), (u'blocks', 'NNS'), (u'from', 'IN'), (u'home', 'NN'), (u'Traveling', 'VBG'), (u'alone', 'RB'), (u'No', 'DT'), (u'worries', 'NNS'), (u'The', 'DT'), (u'two', 'CD'), (u'bedrooms', 'NNS'), (u'will', 'MD'), (u'be', 'VB'), (u'occupied', 'VBN'), (u'by', 'IN'), (u'myself', 'PRP'), (u'and', 'CC'), (u'my', 'PRP$'), (u'roommate', 'NN'), (u'so', 'IN'), (u'you', 'PRP'), (u'be', 'VB'), (u'making', 'VBG'), (u'two', 'CD'), (u'new', 'JJ'), (u'friends', 'NNS'), (u'when', 'WRB'), (u'you', 'PRP'), (u'come', 'VBP'), (u'stay', 'VB'), (u'with', 'IN'), (u'us', 'PRP'), (u'Need', 'VBP'), (u'a', 'DT'), (u'place', 'NN'), (u'to', 'TO'), (u'sleep', 'VB'), (u'that', 'DT'), (u'has', 'VBZ'), (u'easy', 'JJ'), (u'access', 'NN'), (u'to', 'TO'), (u'all', 'DT'), (u'of', 'IN'), (u'San', 'NNP'), (u'Francisco', 'NNP'), (u'Our', 'PRP$'), (u'living', 'NN'), (u'room', 'NN'), (u'sofabed', 'VBD'), (u'on', 'IN'), (u'the', 'DT'), (u'corner', 'NN'), (u'of', 'IN'), (u'Golden', 'NNP'), (u'Gate', 'NNP'), (u'Park', 'NNP'), (u'is', 'VBZ'), (u'in', 'IN'), (u'the', 'DT'), (u'center', 'NN'), (u'of', 'IN'), (u'the', 'DT'), (u'city', 'NN'), (u'As', 'IN'), (u'an', 'DT'), (u'added', 'JJ'), (u'bonus', 'NN'), (u'access', 'NN'), (u'to', 'TO'), (u'public', 'JJ'), (u'transportation', 'NN'), (u'MUNI', 'NNP'), (u'is', 'VBZ'), (u'less', 'JJR'), (u'than', 'IN'), (u'a', 'DT'), (u'minute', 'NN'), (u'walk', 'NN'), (u'away', 'RB')]\n",
      "6\n"
     ]
    },
    {
     "name": "stderr",
     "output_type": "stream",
     "text": [
      "/anaconda2/lib/python2.7/site-packages/ipykernel_launcher.py:11: UnicodeWarning: Unicode equal comparison failed to convert both arguments to Unicode - interpreting them as being unequal\n",
      "  # This is added back by InteractiveShellApp.init_path()\n"
     ]
    }
   ],
   "source": [
    "#only digested 8 lines to demonstrate. Will continue if needed.\n",
    "scored_sentences = []\n",
    "for review in lines[1:10]:\n",
    "    score = 0\n",
    "    temp_sentence = []\n",
    "    for sentence in review:\n",
    "        for word in sentence:\n",
    "            if word[0].isalpha():\n",
    "                if word[0] in pos_words:\n",
    "                    score += 1\n",
    "                if word[0] in neg_words:\n",
    "                    score -= 1\n",
    "                temp_sentence.append(word)\n",
    "\n",
    "    scored_sentences.append([temp_sentence, score])\n",
    "    \n",
    "    \n",
    "for line, score in scored_sentences:\n",
    "    print line\n",
    "    print score"
   ]
  },
  {
   "cell_type": "code",
   "execution_count": null,
   "metadata": {
    "collapsed": true
   },
   "outputs": [],
   "source": [
    "##########Method 2##################"
   ]
  },
  {
   "cell_type": "code",
   "execution_count": 44,
   "metadata": {},
   "outputs": [
    {
     "name": "stdout",
     "output_type": "stream",
     "text": [
      "0,\"Need a place to sleep that has easy access to all of San Francisco? Our living room sofabed on the corner of Golden Gate Park is in the center of the city! As an added bonus, access to public transportation (MUNI) is less than a 5 minute walk away. We've converted our living room sofa into a full-sized bed by outfitting our modular sofa with a traditional Japanese organic futon mattress. The bedrooms will be occupied by my roommate and myself. We are two young professional males in our mid-20s in the tech industry. Whether you're looking to see San Francisco highlights like the Golden Gate Bridge, Golden Gate Park, Mission Dolores Park, or Fisherman's Wharf, with this central location, you'll have easy access! There will be a lockbox located outside of the apartment building which means you will have your own set of keys so that you can conveniently go in and out of the unit at your discretion. You'll have full private access to the master bedroom. While the closet is in use, it's quit\",\"Hi! I'm Charles. I'm originally from Dallas, Texas, where I taught middle school math as part of Teach For America, but now reside in San Francisco, California, where I shuttle to and from my workplace at (SENSITIVE CONTENTS HIDDEN) down in Mountain View.\n"
     ]
    }
   ],
   "source": [
    "lines = []\n",
    "count = 0\n",
    "for line in open('text_test_deps.csv').readlines():\n",
    "    temp_str = line.strip('\\r\\n')\n",
    "    if temp_str != \"\":\n",
    "        lines.append(temp_str)\n",
    "print lines[1]"
   ]
  },
  {
   "cell_type": "code",
   "execution_count": null,
   "metadata": {},
   "outputs": [],
   "source": [
    "#if you want a total sentiment.\n",
    "#import nltk \n",
    "#import pandas as pd \n",
    "#import string\n",
    "#messages = lines[:10]\n",
    "#from nltk.sentiment.vader import SentimentIntensityAnalyzer\n",
    "\n",
    "#sid = SentimentIntensityAnalyzer()\n",
    "#summary = {\"positive\":0,\"neutral\":0,\"negative\":0}\n",
    "#for x in messages: \n",
    "#    ss = sid.polarity_scores(x)\n",
    "#    if ss[\"compound\"] == 0.0: \n",
    "#        summary[\"neutral\"] +=1\n",
    "#    elif ss[\"compound\"] > 0.0:\n",
    "#        summary[\"positive\"] +=1\n",
    "#    else:\n",
    "#        summary[\"negative\"] +=1\n",
    "#print summary"
   ]
  },
  {
   "cell_type": "code",
   "execution_count": 35,
   "metadata": {},
   "outputs": [],
   "source": [
    "#this will use nltk's built in sentiment score\n",
    "#more info on this: http://t-redactyl.io/blog/2017/04/using-vader-to-handle-sentiment-analysis-with-social-media-text.html\n",
    "#only digested 8 lines to demonstrate. Will continue if needed.\n",
    "from nltk.sentiment.vader import SentimentIntensityAnalyzer\n",
    "sid = SentimentIntensityAnalyzer()\n",
    "sentiment = []\n",
    "for each in lines[1:10]:\n",
    "    ss = sid.polarity_scores(each)\n",
    "    sentiment.append([each, ss])"
   ]
  },
  {
   "cell_type": "code",
   "execution_count": 135,
   "metadata": {},
   "outputs": [
    {
     "name": "stdout",
     "output_type": "stream",
     "text": [
      "['0,\"Need a place to sleep that has easy access to all of San Francisco? Our living room sofabed on the corner of Golden Gate Park is in the center of the city! As an added bonus, access to public transportation (MUNI) is less than a 5 minute walk away. We\\'ve converted our living room sofa into a full-sized bed by outfitting our modular sofa with a traditional Japanese organic futon mattress. The bedrooms will be occupied by my roommate and myself. We are two young professional males in our mid-20s in the tech industry. Whether you\\'re looking to see San Francisco highlights like the Golden Gate Bridge, Golden Gate Park, Mission Dolores Park, or Fisherman\\'s Wharf, with this central location, you\\'ll have easy access! There will be a lockbox located outside of the apartment building which means you will have your own set of keys so that you can conveniently go in and out of the unit at your discretion. You\\'ll have full private access to the master bedroom. While the closet is in use, it\\'s quit\",\"Hi! I\\'m Charles. I\\'m originally from Dallas, Texas, where I taught middle school math as part of Teach For America, but now reside in San Francisco, California, where I shuttle to and from my workplace at (SENSITIVE CONTENTS HIDDEN) down in Mountain View.', {'neg': 0.0, 'neu': 0.959, 'pos': 0.041, 'compound': 0.7767}]\n"
     ]
    }
   ],
   "source": [
    "#I believe we should focus on the compound score as that score is normalized to fit between -1 and 1\n",
    "print sentiment[0]"
   ]
  }
 ],
 "metadata": {
  "kernelspec": {
   "display_name": "Python 2",
   "language": "python",
   "name": "python2"
  },
  "language_info": {
   "codemirror_mode": {
    "name": "ipython",
    "version": 2
   },
   "file_extension": ".py",
   "mimetype": "text/x-python",
   "name": "python",
   "nbconvert_exporter": "python",
   "pygments_lexer": "ipython2",
   "version": "2.7.14"
  }
 },
 "nbformat": 4,
 "nbformat_minor": 2
}
