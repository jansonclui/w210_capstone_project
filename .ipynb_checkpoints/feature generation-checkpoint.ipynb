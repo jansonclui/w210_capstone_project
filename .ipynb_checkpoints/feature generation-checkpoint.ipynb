{
 "cells": [
  {
   "cell_type": "code",
   "execution_count": 1,
   "metadata": {
    "collapsed": true
   },
   "outputs": [],
   "source": [
    "import os, sys, re, json, time, unittest\n",
    "import itertools, collections\n",
    "import re\n",
    "import operator\n",
    "from sklearn import datasets, linear_model\n",
    "import numpy as np\n",
    "from scipy import stats\n",
    "import matplotlib.pyplot as plt\n",
    "from sklearn.feature_extraction.text import CountVectorizer, TfidfVectorizer\n",
    "from sklearn.linear_model import LogisticRegression\n",
    "from sklearn.metrics import accuracy_score"
   ]
  },
  {
   "cell_type": "code",
   "execution_count": null,
   "metadata": {
    "collapsed": true
   },
   "outputs": [],
   "source": [
    "import nltk\n",
    "#read in data to clean and separate into training and test set\n",
    "from nltk.corpus import stopwords\n",
    "\n",
    "stop_words = set(stopwords.words(\"english\"))\n",
    "\n",
    "\n",
    "good = []\n",
    "bad = []\n",
    "score = []\n",
    "tags = []\n",
    "lines = []\n",
    "bow = []\n",
    "#1 is good\n",
    "#0 is not\n",
    "\n",
    "#based on the distribution of scores, I rounded up the mean to 95 and used that to determine good and bad\n",
    "#turns out the distribution between good and bad is pretty even.\n",
    "for line in open('naomit_review_scores_final').readlines():\n",
    "    data = line.split('\\t')\n",
    "    clean_score = re.sub(\"[^0-9]\", \"\", data[1])\n",
    "    desc = data[0]\n",
    "    if clean_score != '' and int(clean_score) <= 100 and int(clean_score) > 0:\n",
    "        if int(clean_score) >= 95:\n",
    "            for each in desc.lower().split('.'):\n",
    "                if each != ' ' and each != '':\n",
    "                    good.append(re.sub('[^A-Za-z]', ' ', each))\n",
    "                    bow.append((re.sub('[^A-Za-z]', ' ', each), 'good'))\n",
    "                    lines.append(re.sub('[^A-Za-z]', ' ', each),)\n",
    "                    score.append(int(clean_score))\n",
    "                    tags.append(int(1))\n",
    "           \n",
    "        elif int(clean_score) < 95:\n",
    "            for each in desc.lower().split('.'):\n",
    "                if each != ' ' and each != '':\n",
    "                    bow.append((re.sub('[^A-Za-z]', ' ', each), 'bad'))\n",
    "                    lines.append(re.sub('[^A-Za-z]', ' ', each))\n",
    "                    bad.append(re.sub('[^A-Za-z]', ' ', each))\n",
    "                    score.append(int(clean_score))\n",
    "                    tags.append(int(0))\n",
    "\n"
   ]
  },
  {
   "cell_type": "code",
   "execution_count": null,
   "metadata": {},
   "outputs": [],
   "source": [
    "words = []\n",
    "for text, rating in bow:\n",
    "    for word in text.split():\n",
    "        if word.lower() not in stop_words:\n",
    "            words.append(word.lower())\n",
    "word_features = nltk.FreqDist(words)\n",
    "most_common = word_features.most_common()[:10000]\n",
    "print most_common[:10]"
   ]
  },
  {
   "cell_type": "code",
   "execution_count": null,
   "metadata": {
    "collapsed": true
   },
   "outputs": [],
   "source": [
    "def feature_sep(descriptions):\n",
    "    words = []\n",
    "    for word in descriptions.split(\" \"):\n",
    "        words.append(word)\n",
    "    features = {}\n",
    "    for w in most_common:\n",
    "        features[w] = (w in words)\n",
    "    return features"
   ]
  },
  {
   "cell_type": "code",
   "execution_count": null,
   "metadata": {
    "collapsed": true
   },
   "outputs": [],
   "source": [
    "featuresets = [(feature_sep(descriptions), tag) for (descriptions, tag) in bow]"
   ]
  },
  {
   "cell_type": "code",
   "execution_count": null,
   "metadata": {
    "collapsed": true
   },
   "outputs": [],
   "source": [
    "print featuresets[0]\n",
    "print bow[0]"
   ]
  },
  {
   "cell_type": "code",
   "execution_count": null,
   "metadata": {
    "collapsed": true
   },
   "outputs": [],
   "source": [
    "classifier = LogisticRegression(training_set)\n",
    "refsets = collections.defaultdict(set)\n",
    "testsets = collections.defaultdict(set)\n",
    " \n",
    "for i, (feats, label) in enumerate(featuresets):\n",
    "    refsets[label].add(i)\n",
    "    observed = classifier.classify(feats)\n",
    "    testsets[observed].add(i)"
   ]
  },
  {
   "cell_type": "code",
   "execution_count": null,
   "metadata": {
    "collapsed": true
   },
   "outputs": [],
   "source": [
    "print (nltk.classify.accuracy(classifier, test_set)*100)\n",
    "classifier.show_most_informative_features(30)"
   ]
  },
  {
   "cell_type": "code",
   "execution_count": null,
   "metadata": {
    "collapsed": true
   },
   "outputs": [],
   "source": [
    "print (nltk.classify.accuracy(classifier, test_set)*100)\n",
    "classifier.show_most_informative_features(20)"
   ]
  }
 ],
 "metadata": {
  "kernelspec": {
   "display_name": "Python 2",
   "language": "python",
   "name": "python2"
  },
  "language_info": {
   "codemirror_mode": {
    "name": "ipython",
    "version": 2
   },
   "file_extension": ".py",
   "mimetype": "text/x-python",
   "name": "python",
   "nbconvert_exporter": "python",
   "pygments_lexer": "ipython2",
   "version": "2.7.14"
  }
 },
 "nbformat": 4,
 "nbformat_minor": 2
}
