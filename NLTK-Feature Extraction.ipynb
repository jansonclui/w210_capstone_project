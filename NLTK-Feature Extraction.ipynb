{
 "cells": [
  {
   "cell_type": "code",
   "execution_count": null,
   "metadata": {},
   "outputs": [],
   "source": [
    "import os, sys, re, json, time, unittest\n",
    "import itertools, collections\n",
    "import re\n",
    "import operator\n",
    "import numpy as np\n",
    "import nltk\n",
    "from nltk.corpus import stopwords\n",
    "stop_words = set(stopwords.words(\"english\"))\n",
    "#nltk.download('maxent_ne_chunker')\n",
    "#nltk.download('words')"
   ]
  },
  {
   "cell_type": "code",
   "execution_count": null,
   "metadata": {},
   "outputs": [],
   "source": [
    "lines = []\n",
    "\n",
    "for line in open('listings').readlines():\n",
    "    desc = line\n",
    "    if clean_score != '' and int(clean_score) <= 100 and int(clean_score) > 0:\n",
    "        for each in desc.lower().split('.'):\n",
    "            if each != ' ' and each != '':\n",
    "                lines.append(each)"
   ]
  },
  {
   "cell_type": "code",
   "execution_count": null,
   "metadata": {
    "collapsed": true
   },
   "outputs": [],
   "source": [
    "#POS tagging without stop words\n",
    "#tagged_lines = []\n",
    "#for sentence in lines:\n",
    "#    temp_str = \"\"\n",
    "#    tokenize = sentence.split()\n",
    "#    tagged_lines.append(nltk.pos_tag(tokenize))\n",
    "    \n",
    "#tokenized_sentences = [nltk.word_tokenize(sentence) for sentence in lines]\n",
    "#tagged_sentences = [nltk.pos_tag(sent) for sent in tokenized_sentences]\n",
    "#tagged = []\n",
    "#for line in tagged_sentences:\n",
    "#    for word in line:\n",
    "#        if word[0] not in stop_words:\n",
    "#            tagged.append(word)"
   ]
  },
  {
   "cell_type": "code",
   "execution_count": 82,
   "metadata": {
    "collapsed": true,
    "scrolled": true
   },
   "outputs": [],
   "source": [
    "#entity extraction\n",
    "\n",
    "def extract_entity_names(t):\n",
    "    entity_names = []\n",
    "\n",
    "    if hasattr(t, 'label') and t.label:\n",
    "        if t.label() == 'NE':\n",
    "            entity_names.append(' '.join([child[0] for child in t]))\n",
    "        else:\n",
    "            for child in t:\n",
    "                entity_names.extend(extract_entity_names(child))\n",
    "\n",
    "    return entity_names\n",
    "\n",
    "with open('listings', 'r') as f:\n",
    "    entities_listings = []\n",
    "    for line in f:\n",
    "        sentences = nltk.sent_tokenize(line.decode('ascii', 'ignore'))\n",
    "        tokenized_sentences = [nltk.word_tokenize(sentence) for sentence in sentences]\n",
    "        tagged_sentences = [nltk.pos_tag(sentence) for sentence in tokenized_sentences]\n",
    "        chunked_sentences = nltk.ne_chunk_sents(tagged_sentences, binary=True)\n",
    "                \n",
    "        for tree in chunked_sentences:\n",
    "            entities_listings.extend(extract_entity_names(tree))"
   ]
  },
  {
   "cell_type": "code",
   "execution_count": 84,
   "metadata": {},
   "outputs": [
    {
     "name": "stdout",
     "output_type": "stream",
     "text": [
      "[u'SF', u'Golden Gate', u'Biking', u'Approx', u'Ocean Beach', u'Golden Gate Park', u'Golden Gate Bridge', u'Park Presidio', u'Golf Course', u'Ocean']\n",
      "[[u'SF', u'Golden Gate'], [], [u'Biking'], [u'Approx'], [], [], [u'Ocean Beach', u'Golden Gate Park'], [], [u'Golden Gate Bridge', u'Park Presidio', u'Golf Course', u'Ocean', u'Baker Beaches'], [u'Youll', u'Wonderful']]\n"
     ]
    }
   ],
   "source": [
    "print len(entities_listings)\n",
    "unique_entity_listings = []\n",
    "for each in entities_listings:\n",
    "    if each not in unique_entity_listings:\n",
    "        unique_entity_listings.extend(each)\n",
    "\n",
    "print len(unique_entity_listings)"
   ]
  },
  {
   "cell_type": "code",
   "execution_count": null,
   "metadata": {},
   "outputs": [],
   "source": [
    "#entity extraction for listings\n",
    "\n",
    "def extract_entity_names(t):\n",
    "    entity_names = []\n",
    "\n",
    "    if hasattr(t, 'label') and t.label:\n",
    "        if t.label() == 'NE':\n",
    "            entity_names.append(' '.join([child[0] for child in t]))\n",
    "        else:\n",
    "            for child in t:\n",
    "                entity_names.extend(extract_entity_names(child))\n",
    "\n",
    "    return entity_names\n",
    "\n",
    "with open('reviews', 'r') as f:\n",
    "    entities_reviews = []\n",
    "    for line in f:\n",
    "        sentences = nltk.sent_tokenize(line.decode('ascii', 'ignore'))\n",
    "        tokenized_sentences = [nltk.word_tokenize(sentence) for sentence in sentences]\n",
    "        tagged_sentences = [nltk.pos_tag(sentence) for sentence in tokenized_sentences]\n",
    "        chunked_sentences = nltk.ne_chunk_sents(tagged_sentences, binary=True)\n",
    "                \n",
    "        for tree in chunked_sentences:\n",
    "            entities_reviews.extend(extract_entity_names(tree))"
   ]
  },
  {
   "cell_type": "code",
   "execution_count": 85,
   "metadata": {},
   "outputs": [
    {
     "name": "stdout",
     "output_type": "stream",
     "text": [
      "SF\n"
     ]
    }
   ],
   "source": [
    "print entities_reviews[0]"
   ]
  }
 ],
 "metadata": {
  "kernelspec": {
   "display_name": "Python 2",
   "language": "python",
   "name": "python2"
  },
  "language_info": {
   "codemirror_mode": {
    "name": "ipython",
    "version": 2
   },
   "file_extension": ".py",
   "mimetype": "text/x-python",
   "name": "python",
   "nbconvert_exporter": "python",
   "pygments_lexer": "ipython2",
   "version": "2.7.14"
  }
 },
 "nbformat": 4,
 "nbformat_minor": 2
}
