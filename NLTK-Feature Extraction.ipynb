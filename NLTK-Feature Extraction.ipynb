{
 "cells": [
  {
   "cell_type": "code",
   "execution_count": 1,
   "metadata": {
    "collapsed": true
   },
   "outputs": [],
   "source": [
    "import os, sys, re, json, time, unittest\n",
    "import itertools, collections\n",
    "import re\n",
    "import operator\n",
    "import numpy as np\n",
    "import nltk\n",
    "from nltk.corpus import stopwords\n",
    "stop_words = set(stopwords.words(\"english\"))\n",
    "#nltk.download('maxent_ne_chunker')\n",
    "#nltk.download('words')"
   ]
  },
  {
   "cell_type": "code",
   "execution_count": null,
   "metadata": {
    "collapsed": true,
    "scrolled": true
   },
   "outputs": [],
   "source": [
    "#entity extraction\n",
    "\n",
    "def extract_entity_names(t):\n",
    "    entity_names = []\n",
    "\n",
    "    if hasattr(t, 'label') and t.label:\n",
    "        if t.label() == 'NE':\n",
    "            entity_names.append(' '.join([child[0] for child in t]))\n",
    "        else:\n",
    "            for child in t:\n",
    "                entity_names.extend(extract_entity_names(child))\n",
    "\n",
    "    return entity_names\n",
    "\n",
    "with open('text_test_deps.csv', 'r') as f:\n",
    "    entity_test_deps = []\n",
    "    heading = True\n",
    "    for line in f:\n",
    "        if heading == True:\n",
    "            heading = False\n",
    "        else:\n",
    "            sentences = nltk.sent_tokenize(line.decode('ascii', 'ignore'))\n",
    "            tokenized_sentences = [nltk.word_tokenize(sentence) for sentence in sentences]\n",
    "            tagged_sentences = [nltk.pos_tag(sentence) for sentence in tokenized_sentences]\n",
    "            chunked_sentences = nltk.ne_chunk_sents(tagged_sentences, binary=True)\n",
    "                \n",
    "            for tree in chunked_sentences:\n",
    "                entity_test_deps.extend(extract_entity_names(tree))"
   ]
  },
  {
   "cell_type": "code",
   "execution_count": null,
   "metadata": {},
   "outputs": [],
   "source": [
    "print test_deps[:10]"
   ]
  },
  {
   "cell_type": "code",
   "execution_count": null,
   "metadata": {},
   "outputs": [],
   "source": [
    "import csv\n",
    "\n",
    "with open('entity_test_deps.csv', 'wb') as myfile:\n",
    "    wr = csv.writer(myfile, quoting=csv.QUOTE_ALL)\n",
    "    wr.writerow(entity_test_deps)"
   ]
  },
  {
   "cell_type": "code",
   "execution_count": null,
   "metadata": {},
   "outputs": [],
   "source": [
    "#takes a long time to run\n",
    "print len(entity_test_deps)\n",
    "unique_entity_test_deps = []\n",
    "for each in entity_test_deps:\n",
    "    if each not in unique_entity_test_deps:\n",
    "        unique_entity_test_deps.extend(each)\n",
    "\n",
    "print len(unique_entity_test_depsentity_listings)"
   ]
  },
  {
   "cell_type": "code",
   "execution_count": null,
   "metadata": {},
   "outputs": [],
   "source": [
    "#POS tagging without stop words\n",
    "#tagged_lines = []\n",
    "#for sentence in lines:\n",
    "#    temp_str = \"\"\n",
    "#    tokenize = sentence.split()\n",
    "#    tagged_lines.append(nltk.pos_tag(tokenize))\n",
    "    \n",
    "#tokenized_sentences = [nltk.word_tokenize(sentence) for sentence in lines]\n",
    "#tagged_sentences = [nltk.pos_tag(sent) for sent in tokenized_sentences]\n",
    "#tagged = []\n",
    "#for line in tagged_sentences:\n",
    "#    for word in line:\n",
    "#        if word[0] not in stop_words:\n",
    "#            tagged.append(word)"
   ]
  },
  {
   "cell_type": "code",
   "execution_count": 2,
   "metadata": {
    "collapsed": true
   },
   "outputs": [],
   "source": [
    "#entity extraction for listings\n",
    "\n",
    "def extract_entity_names(t):\n",
    "    entity_names = []\n",
    "\n",
    "    if hasattr(t, 'label') and t.label:\n",
    "        if t.label() == 'NE':\n",
    "            entity_names.append(' '.join([child[0] for child in t]))\n",
    "        else:\n",
    "            for child in t:\n",
    "                entity_names.extend(extract_entity_names(child))\n",
    "\n",
    "    return entity_names\n",
    "\n",
    "with open('text_train_deps.csv', 'r') as f:\n",
    "    entity_train_deps = []\n",
    "    for line in f:\n",
    "        sentences = nltk.sent_tokenize(line.decode('ascii', 'ignore'))\n",
    "        tokenized_sentences = [nltk.word_tokenize(sentence) for sentence in sentences]\n",
    "        tagged_sentences = [nltk.pos_tag(sentence) for sentence in tokenized_sentences]\n",
    "        chunked_sentences = nltk.ne_chunk_sents(tagged_sentences, binary=True)\n",
    "                \n",
    "        for tree in chunked_sentences:\n",
    "            entity_train_deps.extend(extract_entity_names(tree))"
   ]
  },
  {
   "cell_type": "code",
   "execution_count": 3,
   "metadata": {},
   "outputs": [
    {
     "name": "stdout",
     "output_type": "stream",
     "text": [
      "[u'San Francisco Station', u'Safeway', u'San Francisco Station', u'Safeway', u'Noe Valley', u'BART', u'Noe Valley', u'San Francisco', u'Access', u'Noe Valley']\n"
     ]
    }
   ],
   "source": [
    "print entity_train_deps[:10]"
   ]
  },
  {
   "cell_type": "code",
   "execution_count": 4,
   "metadata": {
    "collapsed": true
   },
   "outputs": [],
   "source": [
    "import csv\n",
    "\n",
    "with open('entity_train_deps.csv', 'wb') as myfile:\n",
    "    wr = csv.writer(myfile, quoting=csv.QUOTE_ALL)\n",
    "    wr.writerow(entity_train_deps)"
   ]
  }
 ],
 "metadata": {
  "kernelspec": {
   "display_name": "Python 2",
   "language": "python",
   "name": "python2"
  },
  "language_info": {
   "codemirror_mode": {
    "name": "ipython",
    "version": 2
   },
   "file_extension": ".py",
   "mimetype": "text/x-python",
   "name": "python",
   "nbconvert_exporter": "python",
   "pygments_lexer": "ipython2",
   "version": "2.7.14"
  }
 },
 "nbformat": 4,
 "nbformat_minor": 2
}
