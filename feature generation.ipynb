{
 "cells": [
  {
   "cell_type": "code",
   "execution_count": 1,
   "metadata": {
    "collapsed": true
   },
   "outputs": [],
   "source": [
    "import os, sys, re, json, time, unittest\n",
    "import itertools, collections\n",
    "import re\n",
    "import operator\n",
    "from sklearn import datasets, linear_model\n",
    "import numpy as np\n",
    "from scipy import stats\n",
    "import matplotlib.pyplot as plt\n",
    "from sklearn.feature_extraction.text import CountVectorizer, TfidfVectorizer\n",
    "from sklearn.linear_model import LogisticRegression\n",
    "from sklearn.metrics import accuracy_score"
   ]
  },
  {
   "cell_type": "code",
   "execution_count": 2,
   "metadata": {
    "collapsed": true
   },
   "outputs": [],
   "source": [
    "import nltk\n",
    "#read in data to clean and separate into training and test set\n",
    "from nltk.corpus import stopwords\n",
    "\n",
    "stop_words = set(stopwords.words(\"english\"))\n",
    "\n",
    "\n",
    "good = []\n",
    "bad = []\n",
    "score = []\n",
    "tags = []\n",
    "lines = []\n",
    "full = []\n",
    "#1 is good\n",
    "#0 is not\n",
    "\n",
    "#based on the distribution of scores, I rounded up the mean to 95 and used that to determine good and bad\n",
    "#turns out the distribution between good and bad is pretty even.\n",
    "for line in open('naomit_review_scores_final').readlines():\n",
    "    data = line.split('\\t')\n",
    "    clean_score = re.sub(\"[^0-9]\", \"\", data[1])\n",
    "    desc = data[0]\n",
    "    if clean_score != '' and int(clean_score) <= 100 and int(clean_score) > 0:\n",
    "        if int(clean_score) >= 95:\n",
    "            for each in desc.lower().split('.'):\n",
    "                if each != ' ' and each != '':\n",
    "                    good.append(re.sub('[^A-Za-z]', ' ', each))\n",
    "                    full.append((re.sub('[^A-Za-z]', ' ', each), 'good'))\n",
    "                    lines.append(re.sub('[^A-Za-z]', ' ', each),)\n",
    "                    score.append(int(clean_score))\n",
    "                    tags.append(int(1))\n",
    "           \n",
    "        elif int(clean_score) < 95:\n",
    "            for each in desc.lower().split('.'):\n",
    "                if each != ' ' and each != '':\n",
    "                    full.append((re.sub('[^A-Za-z]', ' ', each), 'bad'))\n",
    "                    lines.append(re.sub('[^A-Za-z]', ' ', each))\n",
    "                    bad.append(re.sub('[^A-Za-z]', ' ', each))\n",
    "                    score.append(int(clean_score))\n",
    "                    tags.append(int(0))\n",
    "\n"
   ]
  },
  {
   "cell_type": "code",
   "execution_count": 5,
   "metadata": {},
   "outputs": [],
   "source": [
    "#pulls out 1000 most common words as features\n",
    "words = []\n",
    "for text in lines:\n",
    "    for word in text.split():\n",
    "        if word.lower() not in stop_words:\n",
    "            words.append(word.lower())\n",
    "word_features = nltk.FreqDist(words)\n",
    "most_common = word_features.most_common()[:1000]\n",
    "most_common_keys = []\n",
    "for each in most_common:\n",
    "    most_common_keys.append(each[0])"
   ]
  },
  {
   "cell_type": "code",
   "execution_count": 6,
   "metadata": {
    "collapsed": true
   },
   "outputs": [],
   "source": [
    "#separate features for each line\n",
    "def feature_sep(descriptions):\n",
    "    words = []\n",
    "    for word in descriptions.split(\" \"):\n",
    "        words.append(word)\n",
    "    features = {}\n",
    "    for w in most_common_keys:\n",
    "        if w in words:\n",
    "            features[w] = 1\n",
    "        elif w not in words:\n",
    "            features[w] = 0\n",
    "            \n",
    "       \n",
    "    return features"
   ]
  },
  {
   "cell_type": "code",
   "execution_count": 74,
   "metadata": {},
   "outputs": [
    {
     "name": "stdout",
     "output_type": "stream",
     "text": [
      "[{'neighbors': 0, 'jason': 0, 'consider': 0, 'rob': 0, 'foot': 0, 'atmosphere': 0, 'felt': 0, 'month': 0, 'four': 0, 'facilities': 0, 'thoughtful': 0, 'sleep': 0, 'microwave': 0, 'logement': 0, 'go': 0, 'children': 0, 'issues': 0, 'seemed': 0, 'looking': 0, 'certainly': 0, 'apartment': 0, 'system': 0, 'laura': 0, 'tv': 0, 'tait': 0, 'tr': 0, 'young': 0, 'moscone': 0, 'answered': 0, 'th': 0, 'weather': 0, 'suite': 0, 'te': 0, 'friendly': 0, 'sent': 0, 'activities': 0, 'stocked': 0, 'music': 0, 'garden': 0, 'far': 0, 'bedrooms': 0, 'choice': 0, 'every': 0, 'sunny': 0, 'cook': 0, 'casa': 0, 'trouble': 0, 'expectations': 0, 'minute': 0, 'cool': 0, 'entire': 0, 'respectful': 0, 'cable': 0, 'level': 0, 'die': 0, 'michael': 0, 'ryan': 0, 'large': 0, 'convenience': 0, 'small': 0, 'lisa': 0, 'guy': 0, 'linens': 0, 'der': 0, 'enjoy': 0, 'des': 0, 'neighborhood': 0, 'tea': 0, 'streets': 0, 'surrounding': 0, 'second': 0, 'street': 0, 'castro': 0, 'pass': 0, 'zu': 0, 'air': 0, 'situated': 0, 'cosy': 0, 'drinks': 0, 'even': 0, 'giving': 0, 'sun': 0, 'exactly': 0, 'cooking': 0, 'stunning': 0, 'find': 0, 'access': 0, 'waiting': 0, 'eating': 0, 'sur': 0, 'offers': 0, 'basic': 0, 'new': 0, 'tips': 0, 'emily': 0, 'ever': 0, 'public': 1, 'filled': 0, 'told': 0, 'full': 0, 'transportation': 0, 'cozy': 0, 'never': 0, 'water': 0, 'met': 0, 'explore': 0, 'les': 0, 'studio': 0, 'twin': 0, 'meet': 0, 'directions': 0, 'along': 0, 'promptly': 0, 'cars': 0, 'wait': 0, 'great': 0, 'kids': 0, 'daughter': 0, 'metro': 0, 'luggage': 0, 'items': 0, 'k': 0, 'affordable': 0, 'experience': 0, 'leaving': 0, 'prior': 0, 'airport': 0, 'pick': 0, 'hospitality': 0, 'conveniently': 0, 'makes': 0, 'options': 0, 'point': 0, 'golden': 0, 'fantastic': 0, 'via': 0, 'love': 0, 'secure': 0, 'family': 0, 'extra': 0, 'transit': 1, 'private': 0, 'highly': 0, 'put': 0, 'guests': 0, 'unit': 0, 'hotels': 0, 'sarah': 0, 'use': 0, 'takes': 0, 'would': 0, 'positive': 0, 'give': 0, 'visit': 0, 'two': 0, 'next': 0, 'live': 0, 'amenities': 0, 'calm': 0, 'recommend': 0, 'taken': 0, 'tell': 0, 'possible': 0, 'flat': 0, 'entrance': 0, 'sharing': 0, 'door': 0, 'posting': 0, 'relax': 0, 'organized': 0, 'company': 0, 'laundry': 0, 'charming': 0, 'downtown': 0, 'phone': 0, 'warm': 0, 'everywhere': 0, 'excellent': 0, 'baby': 0, 'ok': 0, 'appointed': 0, 'glad': 0, 'must': 0, 'town': 0, 'room': 0, 'hour': 0, 'f': 0, 'car': 0, 'ride': 0, 'work': 0, 'pour': 0, 'worth': 0, 'reviews': 0, 'anywhere': 0, 'notre': 0, 'making': 0, 'arrive': 0, 'caf': 0, 'beautiful': 0, 'heart': 0, 'wharf': 0, 'prompt': 0, 'snacks': 0, 'process': 0, 'lock': 0, 'awesome': 0, 'suggestions': 0, 'high': 0, 'foods': 0, 'something': 0, 'want': 0, 'allowed': 0, 'wonderful': 0, 'david': 0, 'huge': 0, 'needs': 0, 'end': 0, 'steve': 0, 'sit': 0, 'provide': 0, 'travel': 0, 'comfort': 0, 'stayed': 0, 'machine': 0, 'located': 0, 'amazing': 0, 'haight': 0, 'brian': 0, 'party': 0, 'answer': 0, 'gate': 0, 'beach': 0, 'staying': 0, 'blocks': 0, 'description': 0, 'information': 0, 'may': 0, 'fran': 0, 'advice': 0, 'spot': 0, 'vacation': 0, 'lucky': 0, 'stars': 0, 'seeing': 0, 'coming': 0, 'backyard': 0, 'guys': 0, 'man': 0, 'short': 0, 'natural': 0, 'whenever': 0, 'light': 0, 'toiletries': 0, 'lines': 0, 'st': 0, 'rather': 0, 'si': 0, 'cannot': 0, 'everyone': 0, 'road': 0, 'rooftop': 0, 'nous': 0, 'opportunity': 0, 'sf': 0, 'patio': 0, 'wine': 0, 'cute': 0, 'help': 0, 'appartment': 0, 'bien': 0, 'welcomed': 0, 'despite': 0, 'mission': 0, 'ended': 0, 'including': 0, 'looks': 0, 'responsive': 0, 'cold': 0, 'still': 0, 'perfect': 0, 'style': 0, 'le': 0, 'group': 0, 'thank': 0, 'fit': 0, 'la': 0, 'personal': 0, 'interesting': 0, 'hot': 0, 'actually': 0, 'better': 0, 'window': 0, 'walkable': 0, 'spacious': 0, 'listing': 0, 'hidden': 0, 'main': 0, 'might': 0, 'coffee': 0, 'good': 0, 'return': 0, 'tourist': 0, 'views': 0, 'food': 0, 'noe': 0, 'renovated': 0, 'safe': 0, 'mention': 0, 'walls': 0, 'das': 0, 'front': 0, 'son': 0, 'rental': 0, 'day': 0, 'bernal': 0, 'instructions': 0, 'easily': 0, 'alex': 0, 'always': 0, 'drop': 0, 'avons': 0, 'l': 0, 'quartier': 0, 'someone': 0, 'spotless': 0, 'fisherman': 0, 'found': 0, 'went': 0, 'side': 0, 'el': 0, 'en': 0, 'upstairs': 0, 'house': 0, 'hard': 0, 'books': 0, 'travelling': 0, 'expect': 0, 'year': 0, 'et': 0, 'furniture': 0, 'bay': 0, 'neighbourhood': 0, 'really': 0, 'living': 0, 'matt': 0, 'hesitate': 0, 'enjoyable': 0, 'space': 0, 'quality': 0, 'robert': 0, 'since': 0, 'marina': 0, 'airbnb': 0, 'bonus': 0, 'laid': 0, 'daniel': 0, 'hill': 0, 'internet': 0, 'got': 0, 'washer': 0, 'sightseeing': 0, 'issue': 0, 'hang': 0, 'given': 0, 'free': 0, 'quite': 0, 'pleasant': 0, 'quick': 0, 'completely': 0, 'base': 0, 'que': 0, 'ask': 0, 'wanted': 0, 'accommodation': 0, 'care': 0, 'yard': 0, 'service': 0, 'g': 0, 'deck': 0, 'could': 0, 'messages': 0, 'days': 0, 'times': 0, 'thing': 0, 'place': 0, 'due': 0, 'w': 0, 'restaurants': 0, 'loud': 0, 'think': 0, 'first': 0, 'major': 0, 'already': 0, 'feel': 0, 'attractions': 0, 'number': 0, 'one': 0, 'email': 0, 'lyft': 0, 'done': 0, 'fast': 0, 'another': 0, 'owner': 0, 'mattress': 0, 'open': 0, 'accommodate': 0, 'size': 0, 'rented': 0, 'city': 0, 'little': 0, 'checked': 0, 'guest': 0, 'district': 0, 'privacy': 0, 'avec': 0, 'top': 0, 'slept': 0, 'homey': 0, 'comfy': 0, 'heights': 0, 'anyone': 0, 'needed': 0, 'station': 0, 'perfectly': 0, 'dogs': 0, 'friend': 0, 'fransisco': 0, 'mini': 0, 'exploring': 0, 'way': 0, 'para': 0, 'ashbury': 0, 'hotel': 0, 'park': 0, 'took': 0, 'part': 0, 'stairs': 0, 'appreciated': 0, 'boyfriend': 0, 'loved': 0, 'kind': 0, 'john': 0, 'confortable': 0, 'unfortunately': 0, 'showed': 0, 'bother': 0, 'dans': 0, 'bed': 0, 'shower': 0, 'apt': 0, 'r': 0, 'store': 0, 'maybe': 0, 'providing': 0, 'steep': 0, 'traveling': 0, 'bridge': 0, 'san': 0, 'appreciate': 0, 'modern': 0, 'tidy': 0, 'comfortable': 0, 'say': 0, 'comfortably': 0, 'rent': 0, 'need': 0, 'breakfast': 0, 'mins': 0, 'saw': 0, 'clearly': 0, 'kevin': 0, 'option': 0, 'nights': 0, 'jour': 0, 'min': 0, 'convenient': 1, 'able': 0, 'communicative': 0, 'parks': 0, 'couch': 0, 'note': 0, 'also': 0, 'recommended': 0, 'contact': 0, 'take': 0, 'doors': 0, 'finding': 0, 'hostel': 0, 'mit': 0, 'se': 0, 'sure': 0, 'though': 0, 'qui': 0, 'price': 0, 'knew': 0, 'reach': 0, 'sfo': 0, 'plan': 0, 'plenty': 0, 'pleasure': 0, 'nothing': 0, 'extremely': 0, 'maria': 0, 'michelle': 0, 'especially': 0, 'neighborhoods': 0, 'kepa': 0, 'windows': 0, 'clear': 0, 'later': 0, 'request': 0, 'dog': 0, 'breeze': 0, 'looked': 0, 'definitely': 0, 'sunset': 0, 'talk': 0, 'clean': 1, 'responded': 0, 'came': 0, 'choose': 0, 'shop': 0, 'walking': 0, 'roof': 0, 'show': 0, 'text': 0, 'cheap': 0, 'accommodations': 0, 'watch': 0, 'bring': 0, 'bright': 0, 'planning': 0, 'bedroom': 0, 'corner': 0, 'fine': 0, 'enjoyed': 0, 'staff': 0, 'touches': 0, 'busy': 0, 'jay': 0, 'quaint': 0, 'true': 0, 'furnished': 0, 'outside': 0, 'going': 0, 'pretty': 0, 'equipped': 0, 'b': 0, 'local': 0, 'proximity': 0, 'hope': 0, 'centrally': 0, 'move': 0, 'fabulous': 0, 'muni': 0, 'get': 0, 'beat': 0, 'de': 0, 'overall': 0, 'grocery': 0, 'truly': 0, 'feels': 0, 'cat': 0, 'shared': 0, 'du': 0, 'considerate': 0, 'propre': 0, 'gem': 0, 'areas': 0, 'spots': 0, 'bar': 0, 'course': 0, 'nicely': 0, 'h': 0, 'morning': 0, 'bad': 0, 'stuff': 0, 'common': 0, 'recommendations': 0, 'scott': 0, 'karen': 0, 'communicated': 0, 'husband': 0, 'view': 0, 'respond': 0, 'available': 0, 'bars': 0, 'set': 0, 'art': 0, 'bart': 0, 'smooth': 0, 'special': 0, 'mentioned': 0, 'see': 0, 'parking': 0, 'close': 0, 'best': 0, 'seems': 0, 'sehr': 0, 'said': 0, 'closet': 0, 'visiting': 0, 'lots': 0, 'pictures': 0, 'away': 0, 'muy': 0, 'victorian': 0, 'superb': 0, 'enough': 0, 'future': 0, 'call': 0, 'probably': 0, 'roomy': 0, 'across': 0, 'pictured': 0, 'arrival': 0, 'attention': 0, 'however': 0, 'supermarket': 0, 'otherwise': 0, 'willing': 0, 'job': 0, 'joe': 0, 'key': 0, 'je': 0, 'condo': 0, 'come': 0, 'kitchen': 0, 'hours': 0, 'c': 0, 'feeling': 0, 'last': 0, 'mais': 0, 'restaurant': 0, 'many': 0, 'taking': 0, 'cafes': 0, 'quiet': 0, 'etc': 0, 'tour': 0, 'und': 0, 'une': 0, 'lo': 0, 'let': 0, 'share': 0, 'whole': 0, 'asked': 0, 'nearby': 0, 'detailed': 0, 'liked': 0, 'hayes': 0, 'jeff': 0, 'simple': 0, 'sweet': 0, 'others': 0, 'ce': 0, 'walk': 0, 'alone': 0, 'tons': 0, 'simply': 0, 'towels': 0, 'table': 0, 'throughout': 0, 'tub': 0, 'groceries': 0, 'conference': 0, 'late': 0, 'bathroom': 0, 'described': 0, 'details': 0, 'union': 0, 'three': 0, 'quickly': 0, 'much': 0, 'peaceful': 0, 'expected': 0, 'flexible': 0, 'lovely': 0, 'meeting': 0, 'mary': 0, 'pm': 0, 'website': 0, 'life': 0, 'lived': 0, 'shopping': 0, 'loft': 0, 'relaxing': 0, 'mind': 0, 'offered': 0, 'else': 0, 'photos': 0, 'uns': 0, 'lives': 0, 'worked': 0, 'attentive': 0, 'weeks': 0, 'gracious': 0, 'case': 0, 'welcoming': 0, 'look': 0, 'hostess': 0, 'leave': 0, 'accommodating': 0, 'chinatown': 0, 'single': 0, 'value': 0, 'n': 0, 'near': 0, 'neat': 0, 'fun': 0, 'situation': 0, 'shops': 0, 'property': 0, 'guide': 0, 'ein': 0, 'bathrooms': 0, 'almost': 0, 'shampoo': 0, 'appartement': 0, 'communicating': 0, 'sleeping': 0, 'helped': 0, 'middle': 0, 'evening': 0, 'il': 0, 'beautifully': 0, 'ready': 0, 'situ': 0, 'bags': 0, 'different': 0, 'pas': 0, 'una': 0, 'things': 0, 'make': 0, 'trip': 0, 'delicious': 0, 'parts': 0, 'tout': 0, 'several': 0, 'difficult': 0, 'week': 0, 'fairly': 0, 'used': 0, 'keys': 0, 'drink': 0, 'upon': 0, 'greeted': 0, 'moment': 0, 'fruit': 0, 'arrived': 0, 'cleaning': 0, 'totally': 0, 'keep': 0, 'amy': 0, 'kept': 0, 'center': 0, 'fully': 0, 'try': 0, 'incredible': 0, 'well': 0, 'spent': 0, 'ocean': 0, 'thought': 0, 'person': 0, 'without': 0, 'bottle': 0, 'thoroughly': 0, 'traffic': 0, 'con': 0, 'canceled': 0, 'spend': 0, 'left': 0, 'world': 0, 'outdoor': 0, 'stores': 0, 'less': 0, 'money': 0, 'accurate': 0, 'half': 0, 'sights': 0, 'rest': 0, 'arriving': 0, 'thanks': 0, 'questions': 0, 'advertised': 0, 'touch': 0, 'useful': 0, 'paul': 0, 'yet': 0, 'ist': 0, 'terrific': 0, 'generous': 0, 'hills': 0, 'dining': 0, 'residential': 0, 'buses': 0, 'josh': 0, 'ideal': 0, 'handy': 0, 'maison': 0, 'parents': 0, 'location': 0, 'easy': 0, 'bnb': 0, 'nos': 0, 'hat': 0, 'gave': 0, 'real': 0, 'around': 0, 'spectacular': 0, 'checking': 0, 'big': 0, 'couple': 0, 'fridge': 0, 'early': 0, 'dryer': 0, 'five': 0, 'know': 0, 'desk': 0, 'floors': 0, 'using': 0, 'bit': 0, 'unique': 0, 'helpful': 0, 'necessary': 0, 'like': 0, 'inviting': 0, 'sofa': 0, 'maintained': 0, 'soap': 0, 'garage': 0, 'hosts': 0, 'either': 0, 'night': 0, 'stylish': 0, 'soft': 0, 'wir': 0, 'accessible': 0, 'right': 0, 'old': 0, 'often': 0, 'deal': 0, 'people': 0, 'absolutely': 0, 'back': 0, 'jennifer': 0, 'decor': 0, 'added': 0, 'home': 0, 'peter': 0, 'transport': 0, 'provided': 0, 'est': 0, 'literally': 0, 'maps': 0, 'centre': 0, 'delightful': 0, 'stops': 0, 'everything': 0, 'safeway': 0, 'market': 0, 'provides': 0, 'steps': 0, 'adorable': 0, 'booking': 0, 'pr': 0, 'noise': 0, 'run': 0, 'business': 0, 'schedule': 0, 'communicate': 0, 'immediately': 0, 'host': 0, 'although': 0, 'hospitable': 0, 'prepared': 0, 'super': 1, 'noisy': 0, 'central': 0, 'working': 0, 'anything': 0, 'getting': 0, 'favorite': 0, 'addition': 0, 'dinner': 0, 'plus': 0, 'block': 0, 'heater': 0, 'sheets': 0, 'communication': 0, 'within': 0, 'travelers': 0, 'bath': 0, 'stop': 0, 'included': 0, 'square': 0, 'homeless': 0, 'gary': 0, 'mark': 0, 'soon': 0, 'per': 0, 'area': 0, 'friends': 0, 'smoothly': 0, 'question': 0, 'dolores': 0, 'long': 0, 'start': 0, 'cats': 0, 'lot': 0, 'ed': 0, 'forward': 0, 'valencia': 0, 'valley': 0, 'war': 0, 'immaculate': 0, 'happy': 0, 'north': 0, 'offer': 0, 'bus': 0, 'relaxed': 0, 'gorgeous': 0, 'pleased': 0, 'hear': 0, 'automated': 0, 'cottage': 0, 'line': 0, 'downstairs': 0, 'eat': 0, 'info': 0, 'made': 0, 'entry': 0, 'places': 0, 'wish': 0, 'inside': 0, 'j': 0, 'rooms': 0, 'hosting': 0, 'us': 0, 'par': 0, 'un': 0, 'dirty': 0, 'hand': 0, 'problem': 0, 'minutes': 0, 'called': 0, 'distance': 0, 'uber': 0, 'toilet': 0, 'vibe': 0, 'adults': 0, 'mike': 0, 'drive': 0, 'list': 0, 'chambre': 0, 'au': 0, 'together': 0, 'chat': 0, 'girlfriend': 0, 'flight': 0, 'cafe': 0, 'check': 0, 'balcony': 0, 'beyond': 0, 'floor': 0, 'detail': 0, 'book': 0, 'es': 0, 'incredibly': 0, 'nice': 0, 'francisco': 0, 'star': 0, 'pillows': 0, 'separate': 0, 'welcome': 0, 'problems': 0, 'shown': 0, 'stay': 0, 'chance': 0, 'important': 0, 'chris': 0, 'reservation': 0, 'decorated': 0, 'aware': 0, 'weekend': 0, 'meals': 0, 'building': 0, 'booked': 0, 'e': 0, 'longer': 0, 'wife': 0, 'soma': 0, 'wifi': 0, 'walked': 0, 'beds': 0, 'train': 0, 'fact': 0, 'time': 0, 'fresh': 0, 'agr': 0}, 'good']\n",
      "[{'neighbors': 0, 'jason': 0, 'consider': 0, 'rob': 0, 'foot': 0, 'atmosphere': 0, 'felt': 0, 'month': 0, 'four': 0, 'facilities': 0, 'thoughtful': 0, 'sleep': 0, 'microwave': 0, 'logement': 0, 'go': 0, 'children': 0, 'issues': 0, 'seemed': 0, 'looking': 0, 'certainly': 0, 'apartment': 1, 'system': 0, 'laura': 0, 'tv': 0, 'tait': 0, 'tr': 0, 'young': 0, 'moscone': 0, 'answered': 0, 'th': 0, 'weather': 0, 'suite': 0, 'te': 0, 'friendly': 0, 'sent': 0, 'activities': 0, 'stocked': 0, 'music': 0, 'garden': 0, 'far': 0, 'bedrooms': 0, 'choice': 0, 'every': 0, 'sunny': 0, 'cook': 0, 'casa': 0, 'trouble': 0, 'expectations': 0, 'minute': 0, 'cool': 0, 'entire': 0, 'respectful': 0, 'cable': 0, 'level': 0, 'die': 0, 'michael': 0, 'ryan': 0, 'large': 0, 'convenience': 0, 'small': 0, 'lisa': 0, 'guy': 0, 'linens': 0, 'der': 0, 'enjoy': 0, 'des': 0, 'neighborhood': 0, 'tea': 0, 'streets': 0, 'surrounding': 0, 'second': 0, 'street': 0, 'castro': 1, 'pass': 0, 'zu': 0, 'air': 0, 'situated': 0, 'cosy': 0, 'drinks': 0, 'even': 0, 'giving': 0, 'sun': 0, 'exactly': 0, 'cooking': 0, 'stunning': 0, 'find': 0, 'access': 0, 'waiting': 0, 'eating': 0, 'sur': 0, 'offers': 0, 'basic': 0, 'new': 0, 'tips': 0, 'emily': 0, 'ever': 0, 'public': 1, 'filled': 0, 'told': 0, 'full': 0, 'transportation': 0, 'cozy': 0, 'never': 0, 'water': 0, 'met': 0, 'explore': 0, 'les': 0, 'studio': 0, 'twin': 0, 'meet': 0, 'directions': 0, 'along': 0, 'promptly': 0, 'cars': 0, 'wait': 0, 'great': 1, 'kids': 0, 'daughter': 0, 'metro': 0, 'luggage': 0, 'items': 0, 'k': 0, 'affordable': 0, 'experience': 0, 'leaving': 0, 'prior': 0, 'airport': 0, 'pick': 0, 'hospitality': 0, 'conveniently': 0, 'makes': 0, 'options': 0, 'point': 0, 'golden': 0, 'fantastic': 0, 'via': 0, 'love': 0, 'secure': 0, 'family': 0, 'extra': 0, 'transit': 0, 'private': 0, 'highly': 0, 'put': 0, 'guests': 0, 'unit': 0, 'hotels': 0, 'sarah': 0, 'use': 0, 'takes': 0, 'would': 0, 'positive': 0, 'give': 0, 'visit': 0, 'two': 0, 'next': 0, 'live': 0, 'amenities': 0, 'calm': 0, 'recommend': 0, 'taken': 0, 'tell': 0, 'possible': 0, 'flat': 0, 'entrance': 0, 'sharing': 0, 'door': 0, 'posting': 0, 'relax': 0, 'organized': 0, 'company': 0, 'laundry': 0, 'charming': 0, 'downtown': 0, 'phone': 0, 'warm': 0, 'everywhere': 0, 'excellent': 0, 'baby': 0, 'ok': 0, 'appointed': 0, 'glad': 0, 'must': 0, 'town': 0, 'room': 0, 'hour': 0, 'f': 0, 'car': 0, 'ride': 0, 'work': 0, 'pour': 0, 'worth': 0, 'reviews': 0, 'anywhere': 0, 'notre': 0, 'making': 0, 'arrive': 0, 'caf': 0, 'beautiful': 0, 'heart': 0, 'wharf': 0, 'prompt': 0, 'snacks': 0, 'process': 0, 'lock': 0, 'awesome': 0, 'suggestions': 0, 'high': 0, 'foods': 0, 'something': 0, 'want': 0, 'allowed': 0, 'wonderful': 0, 'david': 0, 'huge': 0, 'needs': 0, 'end': 0, 'steve': 0, 'sit': 0, 'provide': 0, 'travel': 0, 'comfort': 0, 'stayed': 0, 'machine': 0, 'located': 0, 'amazing': 0, 'haight': 0, 'brian': 0, 'party': 0, 'answer': 0, 'gate': 0, 'beach': 0, 'staying': 0, 'blocks': 0, 'description': 0, 'information': 0, 'may': 0, 'fran': 0, 'advice': 0, 'spot': 0, 'vacation': 0, 'lucky': 0, 'stars': 0, 'seeing': 0, 'coming': 0, 'backyard': 0, 'guys': 0, 'man': 0, 'short': 0, 'natural': 0, 'whenever': 0, 'light': 0, 'toiletries': 0, 'lines': 0, 'st': 0, 'rather': 0, 'si': 0, 'cannot': 0, 'everyone': 0, 'road': 0, 'rooftop': 0, 'nous': 0, 'opportunity': 0, 'sf': 0, 'patio': 0, 'wine': 0, 'cute': 0, 'help': 0, 'appartment': 0, 'bien': 0, 'welcomed': 0, 'despite': 0, 'mission': 1, 'ended': 0, 'including': 0, 'looks': 0, 'responsive': 0, 'cold': 0, 'still': 0, 'perfect': 0, 'style': 0, 'le': 0, 'group': 0, 'thank': 0, 'fit': 0, 'la': 0, 'personal': 0, 'interesting': 0, 'hot': 0, 'actually': 0, 'better': 0, 'window': 0, 'walkable': 0, 'spacious': 0, 'listing': 0, 'hidden': 0, 'main': 0, 'might': 0, 'coffee': 1, 'good': 0, 'return': 0, 'tourist': 0, 'views': 0, 'food': 0, 'noe': 0, 'renovated': 0, 'safe': 0, 'mention': 0, 'walls': 0, 'das': 0, 'front': 0, 'son': 0, 'rental': 0, 'day': 0, 'bernal': 0, 'instructions': 0, 'easily': 0, 'alex': 0, 'always': 0, 'drop': 0, 'avons': 0, 'l': 0, 'quartier': 0, 'someone': 0, 'spotless': 0, 'fisherman': 0, 'found': 0, 'went': 0, 'side': 0, 'el': 0, 'en': 0, 'upstairs': 0, 'house': 0, 'hard': 0, 'books': 0, 'travelling': 0, 'expect': 0, 'year': 0, 'et': 0, 'furniture': 0, 'bay': 0, 'neighbourhood': 0, 'really': 0, 'living': 0, 'matt': 0, 'hesitate': 0, 'enjoyable': 0, 'space': 0, 'quality': 0, 'robert': 0, 'since': 0, 'marina': 0, 'airbnb': 0, 'bonus': 0, 'laid': 0, 'daniel': 0, 'hill': 0, 'internet': 0, 'got': 0, 'washer': 0, 'sightseeing': 0, 'issue': 0, 'hang': 0, 'given': 0, 'free': 0, 'quite': 0, 'pleasant': 0, 'quick': 0, 'completely': 0, 'base': 0, 'que': 0, 'ask': 0, 'wanted': 0, 'accommodation': 0, 'care': 0, 'yard': 0, 'service': 0, 'g': 0, 'deck': 0, 'could': 0, 'messages': 0, 'days': 0, 'times': 0, 'thing': 0, 'place': 0, 'due': 0, 'w': 0, 'restaurants': 0, 'loud': 0, 'think': 0, 'first': 0, 'major': 0, 'already': 0, 'feel': 0, 'attractions': 0, 'number': 0, 'one': 0, 'email': 0, 'lyft': 0, 'done': 0, 'fast': 0, 'another': 0, 'owner': 0, 'mattress': 0, 'open': 0, 'accommodate': 0, 'size': 0, 'rented': 0, 'city': 0, 'little': 0, 'checked': 0, 'guest': 0, 'district': 0, 'privacy': 0, 'avec': 0, 'top': 0, 'slept': 0, 'homey': 0, 'comfy': 0, 'heights': 0, 'anyone': 0, 'needed': 0, 'station': 0, 'perfectly': 0, 'dogs': 0, 'friend': 0, 'fransisco': 0, 'mini': 0, 'exploring': 0, 'way': 0, 'para': 0, 'ashbury': 0, 'hotel': 0, 'park': 0, 'took': 0, 'part': 0, 'stairs': 0, 'appreciated': 0, 'boyfriend': 0, 'loved': 0, 'kind': 0, 'john': 0, 'confortable': 0, 'unfortunately': 0, 'showed': 0, 'bother': 0, 'dans': 0, 'bed': 0, 'shower': 0, 'apt': 0, 'r': 0, 'store': 0, 'maybe': 0, 'providing': 0, 'steep': 0, 'traveling': 0, 'bridge': 0, 'san': 0, 'appreciate': 0, 'modern': 0, 'tidy': 0, 'comfortable': 1, 'say': 0, 'comfortably': 0, 'rent': 0, 'need': 0, 'breakfast': 0, 'mins': 0, 'saw': 0, 'clearly': 0, 'kevin': 0, 'option': 0, 'nights': 0, 'jour': 0, 'min': 0, 'convenient': 0, 'able': 0, 'communicative': 0, 'parks': 0, 'couch': 0, 'note': 0, 'also': 0, 'recommended': 0, 'contact': 0, 'take': 0, 'doors': 0, 'finding': 0, 'hostel': 0, 'mit': 0, 'se': 0, 'sure': 0, 'though': 0, 'qui': 0, 'price': 0, 'knew': 0, 'reach': 0, 'sfo': 0, 'plan': 0, 'plenty': 0, 'pleasure': 0, 'nothing': 0, 'extremely': 0, 'maria': 0, 'michelle': 0, 'especially': 0, 'neighborhoods': 0, 'kepa': 0, 'windows': 0, 'clear': 0, 'later': 0, 'request': 0, 'dog': 0, 'breeze': 0, 'looked': 0, 'definitely': 0, 'sunset': 0, 'talk': 0, 'clean': 0, 'responded': 0, 'came': 0, 'choose': 0, 'shop': 0, 'walking': 0, 'roof': 0, 'show': 0, 'text': 0, 'cheap': 0, 'accommodations': 0, 'watch': 0, 'bring': 0, 'bright': 0, 'planning': 0, 'bedroom': 0, 'corner': 0, 'fine': 0, 'enjoyed': 0, 'staff': 0, 'touches': 0, 'busy': 0, 'jay': 0, 'quaint': 0, 'true': 0, 'furnished': 0, 'outside': 0, 'going': 0, 'pretty': 0, 'equipped': 1, 'b': 0, 'local': 0, 'proximity': 0, 'hope': 0, 'centrally': 0, 'move': 0, 'fabulous': 0, 'muni': 0, 'get': 0, 'beat': 0, 'de': 0, 'overall': 0, 'grocery': 0, 'truly': 0, 'feels': 0, 'cat': 0, 'shared': 0, 'du': 0, 'considerate': 0, 'propre': 0, 'gem': 0, 'areas': 0, 'spots': 0, 'bar': 0, 'course': 0, 'nicely': 0, 'h': 0, 'morning': 0, 'bad': 0, 'stuff': 0, 'common': 0, 'recommendations': 0, 'scott': 0, 'karen': 0, 'communicated': 0, 'husband': 0, 'view': 0, 'respond': 0, 'available': 0, 'bars': 0, 'set': 0, 'art': 0, 'bart': 0, 'smooth': 0, 'special': 0, 'mentioned': 0, 'see': 0, 'parking': 0, 'close': 0, 'best': 0, 'seems': 0, 'sehr': 0, 'said': 0, 'closet': 0, 'visiting': 0, 'lots': 0, 'pictures': 0, 'away': 0, 'muy': 0, 'victorian': 0, 'superb': 0, 'enough': 0, 'future': 0, 'call': 0, 'probably': 0, 'roomy': 0, 'across': 0, 'pictured': 0, 'arrival': 0, 'attention': 0, 'however': 0, 'supermarket': 0, 'otherwise': 0, 'willing': 0, 'job': 0, 'joe': 0, 'key': 0, 'je': 0, 'condo': 0, 'come': 0, 'kitchen': 0, 'hours': 0, 'c': 0, 'feeling': 0, 'last': 0, 'mais': 0, 'restaurant': 0, 'many': 0, 'taking': 0, 'cafes': 0, 'quiet': 0, 'etc': 0, 'tour': 0, 'und': 0, 'une': 0, 'lo': 0, 'let': 0, 'share': 0, 'whole': 0, 'asked': 0, 'nearby': 0, 'detailed': 0, 'liked': 0, 'hayes': 0, 'jeff': 0, 'simple': 0, 'sweet': 0, 'others': 0, 'ce': 0, 'walk': 0, 'alone': 0, 'tons': 0, 'simply': 0, 'towels': 0, 'table': 0, 'throughout': 0, 'tub': 0, 'groceries': 0, 'conference': 0, 'late': 0, 'bathroom': 0, 'described': 0, 'details': 0, 'union': 0, 'three': 0, 'quickly': 0, 'much': 0, 'peaceful': 0, 'expected': 0, 'flexible': 0, 'lovely': 0, 'meeting': 0, 'mary': 0, 'pm': 0, 'website': 0, 'life': 0, 'lived': 0, 'shopping': 0, 'loft': 0, 'relaxing': 0, 'mind': 0, 'offered': 0, 'else': 0, 'photos': 0, 'uns': 0, 'lives': 0, 'worked': 0, 'attentive': 0, 'weeks': 0, 'gracious': 0, 'case': 0, 'welcoming': 0, 'look': 0, 'hostess': 0, 'leave': 0, 'accommodating': 0, 'chinatown': 0, 'single': 0, 'value': 0, 'n': 0, 'near': 0, 'neat': 0, 'fun': 0, 'situation': 0, 'shops': 1, 'property': 0, 'guide': 0, 'ein': 0, 'bathrooms': 0, 'almost': 0, 'shampoo': 0, 'appartement': 0, 'communicating': 0, 'sleeping': 0, 'helped': 0, 'middle': 0, 'evening': 0, 'il': 0, 'beautifully': 0, 'ready': 0, 'situ': 0, 'bags': 0, 'different': 0, 'pas': 0, 'una': 0, 'things': 0, 'make': 0, 'trip': 0, 'delicious': 0, 'parts': 0, 'tout': 0, 'several': 0, 'difficult': 0, 'week': 0, 'fairly': 0, 'used': 0, 'keys': 0, 'drink': 0, 'upon': 0, 'greeted': 0, 'moment': 0, 'fruit': 0, 'arrived': 0, 'cleaning': 0, 'totally': 0, 'keep': 0, 'amy': 0, 'kept': 0, 'center': 0, 'fully': 0, 'try': 0, 'incredible': 0, 'well': 1, 'spent': 0, 'ocean': 0, 'thought': 0, 'person': 0, 'without': 0, 'bottle': 0, 'thoroughly': 0, 'traffic': 0, 'con': 0, 'canceled': 0, 'spend': 0, 'left': 0, 'world': 0, 'outdoor': 0, 'stores': 0, 'less': 0, 'money': 0, 'accurate': 0, 'half': 0, 'sights': 0, 'rest': 0, 'arriving': 0, 'thanks': 0, 'questions': 0, 'advertised': 0, 'touch': 0, 'useful': 0, 'paul': 0, 'yet': 0, 'ist': 0, 'terrific': 0, 'generous': 0, 'hills': 0, 'dining': 0, 'residential': 0, 'buses': 0, 'josh': 0, 'ideal': 0, 'handy': 0, 'maison': 0, 'parents': 0, 'location': 1, 'easy': 0, 'bnb': 0, 'nos': 0, 'hat': 0, 'gave': 0, 'real': 0, 'around': 0, 'spectacular': 0, 'checking': 0, 'big': 0, 'couple': 0, 'fridge': 0, 'early': 0, 'dryer': 0, 'five': 0, 'know': 0, 'desk': 0, 'floors': 0, 'using': 0, 'bit': 0, 'unique': 0, 'helpful': 0, 'necessary': 0, 'like': 0, 'inviting': 0, 'sofa': 0, 'maintained': 0, 'soap': 0, 'garage': 0, 'hosts': 0, 'either': 0, 'night': 0, 'stylish': 0, 'soft': 0, 'wir': 0, 'accessible': 1, 'right': 0, 'old': 0, 'often': 0, 'deal': 0, 'people': 0, 'absolutely': 0, 'back': 0, 'jennifer': 0, 'decor': 0, 'added': 0, 'home': 0, 'peter': 0, 'transport': 1, 'provided': 0, 'est': 0, 'literally': 0, 'maps': 0, 'centre': 0, 'delightful': 0, 'stops': 0, 'everything': 0, 'safeway': 0, 'market': 0, 'provides': 0, 'steps': 0, 'adorable': 0, 'booking': 0, 'pr': 0, 'noise': 0, 'run': 0, 'business': 0, 'schedule': 0, 'communicate': 0, 'immediately': 0, 'host': 0, 'although': 0, 'hospitable': 0, 'prepared': 0, 'super': 0, 'noisy': 0, 'central': 0, 'working': 0, 'anything': 0, 'getting': 0, 'favorite': 0, 'addition': 0, 'dinner': 0, 'plus': 0, 'block': 0, 'heater': 0, 'sheets': 0, 'communication': 0, 'within': 0, 'travelers': 0, 'bath': 0, 'stop': 0, 'included': 0, 'square': 0, 'homeless': 0, 'gary': 0, 'mark': 0, 'soon': 0, 'per': 0, 'area': 0, 'friends': 0, 'smoothly': 0, 'question': 0, 'dolores': 0, 'long': 0, 'start': 0, 'cats': 0, 'lot': 0, 'ed': 0, 'forward': 0, 'valencia': 0, 'valley': 0, 'war': 0, 'immaculate': 0, 'happy': 0, 'north': 0, 'offer': 0, 'bus': 0, 'relaxed': 0, 'gorgeous': 0, 'pleased': 0, 'hear': 0, 'automated': 0, 'cottage': 0, 'line': 0, 'downstairs': 0, 'eat': 0, 'info': 0, 'made': 0, 'entry': 0, 'places': 0, 'wish': 0, 'inside': 0, 'j': 0, 'rooms': 0, 'hosting': 0, 'us': 0, 'par': 0, 'un': 0, 'dirty': 0, 'hand': 0, 'problem': 0, 'minutes': 0, 'called': 0, 'distance': 0, 'uber': 0, 'toilet': 0, 'vibe': 0, 'adults': 0, 'mike': 0, 'drive': 0, 'list': 0, 'chambre': 0, 'au': 0, 'together': 0, 'chat': 0, 'girlfriend': 0, 'flight': 0, 'cafe': 0, 'check': 0, 'balcony': 0, 'beyond': 0, 'floor': 0, 'detail': 0, 'book': 0, 'es': 0, 'incredibly': 0, 'nice': 0, 'francisco': 0, 'star': 0, 'pillows': 0, 'separate': 0, 'welcome': 0, 'problems': 0, 'shown': 0, 'stay': 0, 'chance': 0, 'important': 0, 'chris': 0, 'reservation': 0, 'decorated': 0, 'aware': 0, 'weekend': 0, 'meals': 0, 'building': 0, 'booked': 0, 'e': 0, 'longer': 0, 'wife': 0, 'soma': 0, 'wifi': 0, 'walked': 0, 'beds': 0, 'train': 0, 'fact': 0, 'time': 0, 'fresh': 0, 'agr': 0}, 'good']\n"
     ]
    }
   ],
   "source": [
    "#1-hot encode\n",
    "test = full[:2]\n",
    "for each in test:\n",
    "    print [feature_sep(each[0]),each[1]]\n"
   ]
  },
  {
   "cell_type": "code",
   "execution_count": null,
   "metadata": {
    "collapsed": true
   },
   "outputs": [],
   "source": [
    "#featuresets = [(feature_sep(descriptions), tag) for (descriptions, tag) in test]"
   ]
  },
  {
   "cell_type": "code",
   "execution_count": null,
   "metadata": {},
   "outputs": [],
   "source": [
    "#print featuresets[0]\n"
   ]
  },
  {
   "cell_type": "code",
   "execution_count": null,
   "metadata": {},
   "outputs": [],
   "source": [
    "#classifier = LogisticRegression(training_set)\n",
    "#refsets = collections.defaultdict(set)\n",
    "#testsets = collections.defaultdict(set)\n",
    " \n",
    "#for i, (feats, label) in enumerate(featuresets):\n",
    "#    refsets[label].add(i)\n",
    "#    observed = classifier.classify(feats)\n",
    "#    testsets[observed].add(i)"
   ]
  },
  {
   "cell_type": "code",
   "execution_count": null,
   "metadata": {
    "collapsed": true
   },
   "outputs": [],
   "source": [
    "#print (nltk.classify.accuray(classifier, test_set)*100)\n",
    "#classifier.show_most_informative_features(30)"
   ]
  },
  {
   "cell_type": "code",
   "execution_count": null,
   "metadata": {
    "collapsed": true
   },
   "outputs": [],
   "source": [
    "#print (nltk.classify.accuracy(classifier, test_set)*100)\n",
    "#classifier.show_most_informative_features(20)"
   ]
  },
  {
   "cell_type": "code",
   "execution_count": 57,
   "metadata": {},
   "outputs": [
    {
     "name": "stdout",
     "output_type": "stream",
     "text": [
      "Counter({('it', 'was'): 5, ('the', 'apartment'): 3, ('apartment', 'was'): 2, ('great', 'location'): 2, ('but', 'would'): 2, ('we', 'were'): 2, ('to', 'public'): 2, ('to', 'other'): 1, ('husband', 'and'): 1, ('receive', 'a'): 1, ('clean', 'and'): 1, ('difficult', 'to'): 1, ('accessible', 'to'): 1, ('were', 'woken'): 1, ('and', 'muni'): 1, ('the', 'house'): 1, ('was', 'but'): 1, ('location', 'near'): 1, ('despite', 'that'): 1, ('two', 'boisterous'): 1, ('by', 'running'): 1, ('had', 'a'): 1, ('early', 'by'): 1, ('airbnb', 'stays'): 1, ('boys', 'we'): 1, ('of', 'work'): 1, ('a', 'confirmation'): 1, ('how', 'to'): 1, ('it', 'meant'): 1, ('even', 'saw'): 1, ('not', 'having'): 1, ('boisterous', 'boys'): 1, ('going', 'to'): 1, ('saw', 'hummingbirds'): 1, ('confirm', 'arrangements'): 1, ('castro', 'the'): 1, ('would', 'have'): 1, ('on', 'doorstep'): 1, ('else', 'next'): 1, ('the', 'living'): 1, ('to', 'get'): 1, ('public', 'transport'): 1, ('rice', 'paper'): 1, ('or', 'welcome'): 1, ('welcome', 'info'): 1, ('what', 'seemed'): 1, ('standard', 'client'): 1, ('coffee', 'shops'): 1, ('of', 'the'): 1, ('was', 'difficult'): 1, ('client', 'service'): 1, ('public', 'transit'): 1, ('courtyard', 'and'): 1, ('arrangements', 'and'): 1, ('doorstep', 'wondering'): 1, ('on', 'what'): 1, ('i', 'had'): 1, ('us', 'on'): 1, ('be', 'ok'): 1, ('sub', 'standard'): 1, ('stay', 'somewhere'): 1, ('somewhere', 'else'): 1, ('living', 'area'): 1, ('the', 'mission'): 1, ('a', 'great'): 1, ('running', 'and'): 1, ('we', 'enjoyed'): 1, ('very', 'accessible'): 1, ('up', 'early'): 1, ('to', 'reach'): 1, ('didn', 't'): 1, ('and', 'convenient'): 1, ('my', 'husband'): 1, ('was', 'under'): 1, ('to', 'wonder'): 1, ('to', 'the'): 1, ('and', 'compared'): 1, ('and', 'i'): 1, ('mission', 'and'): 1, ('and', 'thumping'): 1, ('to', 'confirm'): 1, ('shops', 'the'): 1, ('our', 'host'): 1, ('have', 'preferred'): 1, ('location', 'very'): 1, ('if', 'it'): 1, ('confirmation', 'email'): 1, ('great', 'stay'): 1, ('would', 'stay'): 1, ('that', 'we'): 1, ('lovely', 'having'): 1, ('duboce', 'park'): 1, ('house', 'and'): 1, ('park', 'and'): 1, ('and', 'castro'): 1, ('work', 'meetings'): 1, ('meetings', 'some'): 1, ('san', 'fransisco'): 1, ('well', 'equipped'): 1, ('wondering', 'if'): 1, ('were', 'waiting'): 1, ('in', 'to'): 1, ('reach', 'our'): 1, ('time', 'in'): 1, ('was', 'all'): 1, ('under', 'the'): 1, ('some', 'weekend'): 1, ('stay', 'here'): 1, ('near', 'duboce'): 1, ('and', 'with'): 1, ('was', 'sub'): 1, ('woken', 'up'): 1, ('host', 'to'): 1, ('and', 'well'): 1, ('a', 'garden'): 1, ('was', 'lovely'): 1, ('our', 'time'): 1, ('get', 'in'): 1, ('all', 'going'): 1, ('hummingbirds', 'however'): 1, ('and', 'how'): 1, ('we', 'even'): 1, ('above', 'us'): 1, ('waiting', 'on'): 1, ('info', 'and'): 1, ('next', 'time'): 1, ('fransisco', 'but'): 1, ('transport', 'coffee'): 1, ('comfortable', 'and'): 1, ('to', 'be'): 1, ('t', 'receive'): 1, ('convenient', 'to'): 1, ('for', 'three'): 1, ('stays', 'it'): 1, ('paper', 'ceilings'): 1, ('and', 'we'): 1, ('weekend', 'fun'): 1, ('having', 'to'): 1, ('however', 'it'): 1, ('thumping', 'above'): 1, ('we', 'didn'): 1, ('preferred', 'not'): 1, ('having', 'a'): 1, ('nights', 'of'): 1, ('with', 'two'): 1, ('enjoyed', 'our'): 1, ('compared', 'to'): 1, ('area', 'of'): 1, ('in', 'san'): 1, ('email', 'or'): 1, ('garden', 'courtyard'): 1, ('seemed', 'rice'): 1, ('other', 'airbnb'): 1, ('three', 'nights'): 1, ('super', 'clean'): 1, ('was', 'very'): 1, ('very', 'comfortable'): 1, ('here', 'for'): 1, ('meant', 'we'): 1})\n"
     ]
    }
   ],
   "source": [
    "#ngram generator\n",
    "input_list = test\n",
    "def find_ngrams(input_list, n):\n",
    "        tokenize = input_list.split()\n",
    "        return zip(*[tokenize[i:] for i in range(n)])\n",
    "ngrams = []\n",
    "for each in input_list:\n",
    "    temp = find_ngrams(each, 2)\n",
    "    for grams in temp:\n",
    "        ngrams.append(grams)\n",
    "\n",
    "\n",
    "ngrams_counter = collections.Counter(ngrams)\n",
    "print ngrams_counter"
   ]
  }
 ],
 "metadata": {
  "kernelspec": {
   "display_name": "Python 2",
   "language": "python",
   "name": "python2"
  },
  "language_info": {
   "codemirror_mode": {
    "name": "ipython",
    "version": 2
   },
   "file_extension": ".py",
   "mimetype": "text/x-python",
   "name": "python",
   "nbconvert_exporter": "python",
   "pygments_lexer": "ipython2",
   "version": "2.7.14"
  }
 },
 "nbformat": 4,
 "nbformat_minor": 2
}
